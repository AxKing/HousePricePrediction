{
 "cells": [
  {
   "cell_type": "markdown",
   "id": "deb424dc",
   "metadata": {},
   "source": [
    "# California Housing Prices\n",
    "\n",
    "## Data Wrangling Table of Contents\n",
    "1. Imports\n",
    "2. Notebook Objectives\n",
    "3. Load the data and initial exploration\n",
    "4. Data Definitions\n",
    "    * Column Name\n",
    "    * Data Types\n",
    "    * Column Description \n",
    "    * Summary statistics\n",
    "    * Range of values\n",
    "5. Updating Data Types\n",
    "6. Deal with Missing Data\n",
    "    1. Remove records with missing data\n",
    "    2. Replace missing values with mean\n",
    "    3. Replace missing values with median\n",
    "    4. Replace missing values with zero"
   ]
  },
  {
   "cell_type": "markdown",
   "id": "18b6c851",
   "metadata": {},
   "source": [
    "This data set comes from: [Kaggle-California Housing Prices](https://www.kaggle.com/datasets/camnugent/california-housing-prices)"
   ]
  },
  {
   "cell_type": "markdown",
   "id": "9decc8c2",
   "metadata": {},
   "source": [
    "### 1. Imports"
   ]
  },
  {
   "cell_type": "code",
   "execution_count": 1,
   "id": "b4f0ec25",
   "metadata": {},
   "outputs": [],
   "source": [
    "import pandas as pd\n",
    "import matplotlib.pyplot as plt\n",
    "import seaborn as sns"
   ]
  },
  {
   "cell_type": "markdown",
   "id": "b222d9b2",
   "metadata": {},
   "source": [
    "### 2. Notebook Objectives\n",
    "* Do we have the data that we need?\n",
    "    * Have you identified the required target value?\n",
    "    * Do you have potentially useful features?\n",
    "* Do you have any fundamental issues with the data?\n",
    "* This is finished when... "
   ]
  },
  {
   "cell_type": "markdown",
   "id": "d57fafb1",
   "metadata": {},
   "source": [
    "### 3. Load the data and initial exploration"
   ]
  },
  {
   "cell_type": "code",
   "execution_count": 2,
   "id": "58b6ff55",
   "metadata": {},
   "outputs": [
    {
     "data": {
      "text/html": [
       "<div>\n",
       "<style scoped>\n",
       "    .dataframe tbody tr th:only-of-type {\n",
       "        vertical-align: middle;\n",
       "    }\n",
       "\n",
       "    .dataframe tbody tr th {\n",
       "        vertical-align: top;\n",
       "    }\n",
       "\n",
       "    .dataframe thead th {\n",
       "        text-align: right;\n",
       "    }\n",
       "</style>\n",
       "<table border=\"1\" class=\"dataframe\">\n",
       "  <thead>\n",
       "    <tr style=\"text-align: right;\">\n",
       "      <th></th>\n",
       "      <th>longitude</th>\n",
       "      <th>latitude</th>\n",
       "      <th>housing_median_age</th>\n",
       "      <th>total_rooms</th>\n",
       "      <th>total_bedrooms</th>\n",
       "      <th>population</th>\n",
       "      <th>households</th>\n",
       "      <th>median_income</th>\n",
       "      <th>median_house_value</th>\n",
       "      <th>ocean_proximity</th>\n",
       "    </tr>\n",
       "  </thead>\n",
       "  <tbody>\n",
       "    <tr>\n",
       "      <th>0</th>\n",
       "      <td>-122.23</td>\n",
       "      <td>37.88</td>\n",
       "      <td>41.0</td>\n",
       "      <td>880.0</td>\n",
       "      <td>129.0</td>\n",
       "      <td>322.0</td>\n",
       "      <td>126.0</td>\n",
       "      <td>8.3252</td>\n",
       "      <td>452600.0</td>\n",
       "      <td>NEAR BAY</td>\n",
       "    </tr>\n",
       "    <tr>\n",
       "      <th>1</th>\n",
       "      <td>-122.22</td>\n",
       "      <td>37.86</td>\n",
       "      <td>21.0</td>\n",
       "      <td>7099.0</td>\n",
       "      <td>1106.0</td>\n",
       "      <td>2401.0</td>\n",
       "      <td>1138.0</td>\n",
       "      <td>8.3014</td>\n",
       "      <td>358500.0</td>\n",
       "      <td>NEAR BAY</td>\n",
       "    </tr>\n",
       "    <tr>\n",
       "      <th>2</th>\n",
       "      <td>-122.24</td>\n",
       "      <td>37.85</td>\n",
       "      <td>52.0</td>\n",
       "      <td>1467.0</td>\n",
       "      <td>190.0</td>\n",
       "      <td>496.0</td>\n",
       "      <td>177.0</td>\n",
       "      <td>7.2574</td>\n",
       "      <td>352100.0</td>\n",
       "      <td>NEAR BAY</td>\n",
       "    </tr>\n",
       "    <tr>\n",
       "      <th>3</th>\n",
       "      <td>-122.25</td>\n",
       "      <td>37.85</td>\n",
       "      <td>52.0</td>\n",
       "      <td>1274.0</td>\n",
       "      <td>235.0</td>\n",
       "      <td>558.0</td>\n",
       "      <td>219.0</td>\n",
       "      <td>5.6431</td>\n",
       "      <td>341300.0</td>\n",
       "      <td>NEAR BAY</td>\n",
       "    </tr>\n",
       "    <tr>\n",
       "      <th>4</th>\n",
       "      <td>-122.25</td>\n",
       "      <td>37.85</td>\n",
       "      <td>52.0</td>\n",
       "      <td>1627.0</td>\n",
       "      <td>280.0</td>\n",
       "      <td>565.0</td>\n",
       "      <td>259.0</td>\n",
       "      <td>3.8462</td>\n",
       "      <td>342200.0</td>\n",
       "      <td>NEAR BAY</td>\n",
       "    </tr>\n",
       "  </tbody>\n",
       "</table>\n",
       "</div>"
      ],
      "text/plain": [
       "   longitude  latitude  housing_median_age  total_rooms  total_bedrooms  \\\n",
       "0    -122.23     37.88                41.0        880.0           129.0   \n",
       "1    -122.22     37.86                21.0       7099.0          1106.0   \n",
       "2    -122.24     37.85                52.0       1467.0           190.0   \n",
       "3    -122.25     37.85                52.0       1274.0           235.0   \n",
       "4    -122.25     37.85                52.0       1627.0           280.0   \n",
       "\n",
       "   population  households  median_income  median_house_value ocean_proximity  \n",
       "0       322.0       126.0         8.3252            452600.0        NEAR BAY  \n",
       "1      2401.0      1138.0         8.3014            358500.0        NEAR BAY  \n",
       "2       496.0       177.0         7.2574            352100.0        NEAR BAY  \n",
       "3       558.0       219.0         5.6431            341300.0        NEAR BAY  \n",
       "4       565.0       259.0         3.8462            342200.0        NEAR BAY  "
      ]
     },
     "execution_count": 2,
     "metadata": {},
     "output_type": "execute_result"
    }
   ],
   "source": [
    "house_data = pd.read_csv('../raw_data/housing.csv')\n",
    "house_data.head()"
   ]
  },
  {
   "cell_type": "code",
   "execution_count": 3,
   "id": "b959dc24",
   "metadata": {},
   "outputs": [
    {
     "data": {
      "text/html": [
       "<div>\n",
       "<style scoped>\n",
       "    .dataframe tbody tr th:only-of-type {\n",
       "        vertical-align: middle;\n",
       "    }\n",
       "\n",
       "    .dataframe tbody tr th {\n",
       "        vertical-align: top;\n",
       "    }\n",
       "\n",
       "    .dataframe thead th {\n",
       "        text-align: right;\n",
       "    }\n",
       "</style>\n",
       "<table border=\"1\" class=\"dataframe\">\n",
       "  <thead>\n",
       "    <tr style=\"text-align: right;\">\n",
       "      <th></th>\n",
       "      <th>count</th>\n",
       "      <th>mean</th>\n",
       "      <th>std</th>\n",
       "      <th>min</th>\n",
       "      <th>25%</th>\n",
       "      <th>50%</th>\n",
       "      <th>75%</th>\n",
       "      <th>max</th>\n",
       "    </tr>\n",
       "  </thead>\n",
       "  <tbody>\n",
       "    <tr>\n",
       "      <th>longitude</th>\n",
       "      <td>20640.0</td>\n",
       "      <td>-119.569704</td>\n",
       "      <td>2.003532</td>\n",
       "      <td>-124.3500</td>\n",
       "      <td>-121.8000</td>\n",
       "      <td>-118.4900</td>\n",
       "      <td>-118.01000</td>\n",
       "      <td>-114.3100</td>\n",
       "    </tr>\n",
       "    <tr>\n",
       "      <th>latitude</th>\n",
       "      <td>20640.0</td>\n",
       "      <td>35.631861</td>\n",
       "      <td>2.135952</td>\n",
       "      <td>32.5400</td>\n",
       "      <td>33.9300</td>\n",
       "      <td>34.2600</td>\n",
       "      <td>37.71000</td>\n",
       "      <td>41.9500</td>\n",
       "    </tr>\n",
       "    <tr>\n",
       "      <th>housing_median_age</th>\n",
       "      <td>20640.0</td>\n",
       "      <td>28.639486</td>\n",
       "      <td>12.585558</td>\n",
       "      <td>1.0000</td>\n",
       "      <td>18.0000</td>\n",
       "      <td>29.0000</td>\n",
       "      <td>37.00000</td>\n",
       "      <td>52.0000</td>\n",
       "    </tr>\n",
       "    <tr>\n",
       "      <th>total_rooms</th>\n",
       "      <td>20640.0</td>\n",
       "      <td>2635.763081</td>\n",
       "      <td>2181.615252</td>\n",
       "      <td>2.0000</td>\n",
       "      <td>1447.7500</td>\n",
       "      <td>2127.0000</td>\n",
       "      <td>3148.00000</td>\n",
       "      <td>39320.0000</td>\n",
       "    </tr>\n",
       "    <tr>\n",
       "      <th>total_bedrooms</th>\n",
       "      <td>20433.0</td>\n",
       "      <td>537.870553</td>\n",
       "      <td>421.385070</td>\n",
       "      <td>1.0000</td>\n",
       "      <td>296.0000</td>\n",
       "      <td>435.0000</td>\n",
       "      <td>647.00000</td>\n",
       "      <td>6445.0000</td>\n",
       "    </tr>\n",
       "    <tr>\n",
       "      <th>population</th>\n",
       "      <td>20640.0</td>\n",
       "      <td>1425.476744</td>\n",
       "      <td>1132.462122</td>\n",
       "      <td>3.0000</td>\n",
       "      <td>787.0000</td>\n",
       "      <td>1166.0000</td>\n",
       "      <td>1725.00000</td>\n",
       "      <td>35682.0000</td>\n",
       "    </tr>\n",
       "    <tr>\n",
       "      <th>households</th>\n",
       "      <td>20640.0</td>\n",
       "      <td>499.539680</td>\n",
       "      <td>382.329753</td>\n",
       "      <td>1.0000</td>\n",
       "      <td>280.0000</td>\n",
       "      <td>409.0000</td>\n",
       "      <td>605.00000</td>\n",
       "      <td>6082.0000</td>\n",
       "    </tr>\n",
       "    <tr>\n",
       "      <th>median_income</th>\n",
       "      <td>20640.0</td>\n",
       "      <td>3.870671</td>\n",
       "      <td>1.899822</td>\n",
       "      <td>0.4999</td>\n",
       "      <td>2.5634</td>\n",
       "      <td>3.5348</td>\n",
       "      <td>4.74325</td>\n",
       "      <td>15.0001</td>\n",
       "    </tr>\n",
       "    <tr>\n",
       "      <th>median_house_value</th>\n",
       "      <td>20640.0</td>\n",
       "      <td>206855.816909</td>\n",
       "      <td>115395.615874</td>\n",
       "      <td>14999.0000</td>\n",
       "      <td>119600.0000</td>\n",
       "      <td>179700.0000</td>\n",
       "      <td>264725.00000</td>\n",
       "      <td>500001.0000</td>\n",
       "    </tr>\n",
       "  </tbody>\n",
       "</table>\n",
       "</div>"
      ],
      "text/plain": [
       "                      count           mean            std         min  \\\n",
       "longitude           20640.0    -119.569704       2.003532   -124.3500   \n",
       "latitude            20640.0      35.631861       2.135952     32.5400   \n",
       "housing_median_age  20640.0      28.639486      12.585558      1.0000   \n",
       "total_rooms         20640.0    2635.763081    2181.615252      2.0000   \n",
       "total_bedrooms      20433.0     537.870553     421.385070      1.0000   \n",
       "population          20640.0    1425.476744    1132.462122      3.0000   \n",
       "households          20640.0     499.539680     382.329753      1.0000   \n",
       "median_income       20640.0       3.870671       1.899822      0.4999   \n",
       "median_house_value  20640.0  206855.816909  115395.615874  14999.0000   \n",
       "\n",
       "                            25%          50%           75%          max  \n",
       "longitude             -121.8000    -118.4900    -118.01000    -114.3100  \n",
       "latitude                33.9300      34.2600      37.71000      41.9500  \n",
       "housing_median_age      18.0000      29.0000      37.00000      52.0000  \n",
       "total_rooms           1447.7500    2127.0000    3148.00000   39320.0000  \n",
       "total_bedrooms         296.0000     435.0000     647.00000    6445.0000  \n",
       "population             787.0000    1166.0000    1725.00000   35682.0000  \n",
       "households             280.0000     409.0000     605.00000    6082.0000  \n",
       "median_income            2.5634       3.5348       4.74325      15.0001  \n",
       "median_house_value  119600.0000  179700.0000  264725.00000  500001.0000  "
      ]
     },
     "execution_count": 3,
     "metadata": {},
     "output_type": "execute_result"
    }
   ],
   "source": [
    "house_data.describe().T"
   ]
  },
  {
   "cell_type": "code",
   "execution_count": 4,
   "id": "66ccbefa",
   "metadata": {},
   "outputs": [
    {
     "name": "stdout",
     "output_type": "stream",
     "text": [
      "<class 'pandas.core.frame.DataFrame'>\n",
      "RangeIndex: 20640 entries, 0 to 20639\n",
      "Data columns (total 10 columns):\n",
      " #   Column              Non-Null Count  Dtype  \n",
      "---  ------              --------------  -----  \n",
      " 0   longitude           20640 non-null  float64\n",
      " 1   latitude            20640 non-null  float64\n",
      " 2   housing_median_age  20640 non-null  float64\n",
      " 3   total_rooms         20640 non-null  float64\n",
      " 4   total_bedrooms      20433 non-null  float64\n",
      " 5   population          20640 non-null  float64\n",
      " 6   households          20640 non-null  float64\n",
      " 7   median_income       20640 non-null  float64\n",
      " 8   median_house_value  20640 non-null  float64\n",
      " 9   ocean_proximity     20640 non-null  object \n",
      "dtypes: float64(9), object(1)\n",
      "memory usage: 1.6+ MB\n"
     ]
    }
   ],
   "source": [
    "house_data.info()"
   ]
  },
  {
   "cell_type": "code",
   "execution_count": 5,
   "id": "8f17a1b7",
   "metadata": {},
   "outputs": [
    {
     "data": {
      "text/html": [
       "<div>\n",
       "<style scoped>\n",
       "    .dataframe tbody tr th:only-of-type {\n",
       "        vertical-align: middle;\n",
       "    }\n",
       "\n",
       "    .dataframe tbody tr th {\n",
       "        vertical-align: top;\n",
       "    }\n",
       "\n",
       "    .dataframe thead th {\n",
       "        text-align: right;\n",
       "    }\n",
       "</style>\n",
       "<table border=\"1\" class=\"dataframe\">\n",
       "  <thead>\n",
       "    <tr style=\"text-align: right;\">\n",
       "      <th></th>\n",
       "      <th>longitude</th>\n",
       "      <th>latitude</th>\n",
       "      <th>housing_median_age</th>\n",
       "      <th>total_rooms</th>\n",
       "      <th>total_bedrooms</th>\n",
       "      <th>population</th>\n",
       "      <th>households</th>\n",
       "      <th>median_income</th>\n",
       "      <th>median_house_value</th>\n",
       "      <th>ocean_proximity</th>\n",
       "    </tr>\n",
       "  </thead>\n",
       "  <tbody>\n",
       "    <tr>\n",
       "      <th>290</th>\n",
       "      <td>-122.16</td>\n",
       "      <td>37.77</td>\n",
       "      <td>47.0</td>\n",
       "      <td>1256.0</td>\n",
       "      <td>NaN</td>\n",
       "      <td>570.0</td>\n",
       "      <td>218.0</td>\n",
       "      <td>4.3750</td>\n",
       "      <td>161900.0</td>\n",
       "      <td>NEAR BAY</td>\n",
       "    </tr>\n",
       "    <tr>\n",
       "      <th>341</th>\n",
       "      <td>-122.17</td>\n",
       "      <td>37.75</td>\n",
       "      <td>38.0</td>\n",
       "      <td>992.0</td>\n",
       "      <td>NaN</td>\n",
       "      <td>732.0</td>\n",
       "      <td>259.0</td>\n",
       "      <td>1.6196</td>\n",
       "      <td>85100.0</td>\n",
       "      <td>NEAR BAY</td>\n",
       "    </tr>\n",
       "    <tr>\n",
       "      <th>538</th>\n",
       "      <td>-122.28</td>\n",
       "      <td>37.78</td>\n",
       "      <td>29.0</td>\n",
       "      <td>5154.0</td>\n",
       "      <td>NaN</td>\n",
       "      <td>3741.0</td>\n",
       "      <td>1273.0</td>\n",
       "      <td>2.5762</td>\n",
       "      <td>173400.0</td>\n",
       "      <td>NEAR BAY</td>\n",
       "    </tr>\n",
       "    <tr>\n",
       "      <th>563</th>\n",
       "      <td>-122.24</td>\n",
       "      <td>37.75</td>\n",
       "      <td>45.0</td>\n",
       "      <td>891.0</td>\n",
       "      <td>NaN</td>\n",
       "      <td>384.0</td>\n",
       "      <td>146.0</td>\n",
       "      <td>4.9489</td>\n",
       "      <td>247100.0</td>\n",
       "      <td>NEAR BAY</td>\n",
       "    </tr>\n",
       "    <tr>\n",
       "      <th>696</th>\n",
       "      <td>-122.10</td>\n",
       "      <td>37.69</td>\n",
       "      <td>41.0</td>\n",
       "      <td>746.0</td>\n",
       "      <td>NaN</td>\n",
       "      <td>387.0</td>\n",
       "      <td>161.0</td>\n",
       "      <td>3.9063</td>\n",
       "      <td>178400.0</td>\n",
       "      <td>NEAR BAY</td>\n",
       "    </tr>\n",
       "    <tr>\n",
       "      <th>...</th>\n",
       "      <td>...</td>\n",
       "      <td>...</td>\n",
       "      <td>...</td>\n",
       "      <td>...</td>\n",
       "      <td>...</td>\n",
       "      <td>...</td>\n",
       "      <td>...</td>\n",
       "      <td>...</td>\n",
       "      <td>...</td>\n",
       "      <td>...</td>\n",
       "    </tr>\n",
       "    <tr>\n",
       "      <th>20267</th>\n",
       "      <td>-119.19</td>\n",
       "      <td>34.20</td>\n",
       "      <td>18.0</td>\n",
       "      <td>3620.0</td>\n",
       "      <td>NaN</td>\n",
       "      <td>3171.0</td>\n",
       "      <td>779.0</td>\n",
       "      <td>3.3409</td>\n",
       "      <td>220500.0</td>\n",
       "      <td>NEAR OCEAN</td>\n",
       "    </tr>\n",
       "    <tr>\n",
       "      <th>20268</th>\n",
       "      <td>-119.18</td>\n",
       "      <td>34.19</td>\n",
       "      <td>19.0</td>\n",
       "      <td>2393.0</td>\n",
       "      <td>NaN</td>\n",
       "      <td>1938.0</td>\n",
       "      <td>762.0</td>\n",
       "      <td>1.6953</td>\n",
       "      <td>167400.0</td>\n",
       "      <td>NEAR OCEAN</td>\n",
       "    </tr>\n",
       "    <tr>\n",
       "      <th>20372</th>\n",
       "      <td>-118.88</td>\n",
       "      <td>34.17</td>\n",
       "      <td>15.0</td>\n",
       "      <td>4260.0</td>\n",
       "      <td>NaN</td>\n",
       "      <td>1701.0</td>\n",
       "      <td>669.0</td>\n",
       "      <td>5.1033</td>\n",
       "      <td>410700.0</td>\n",
       "      <td>&lt;1H OCEAN</td>\n",
       "    </tr>\n",
       "    <tr>\n",
       "      <th>20460</th>\n",
       "      <td>-118.75</td>\n",
       "      <td>34.29</td>\n",
       "      <td>17.0</td>\n",
       "      <td>5512.0</td>\n",
       "      <td>NaN</td>\n",
       "      <td>2734.0</td>\n",
       "      <td>814.0</td>\n",
       "      <td>6.6073</td>\n",
       "      <td>258100.0</td>\n",
       "      <td>&lt;1H OCEAN</td>\n",
       "    </tr>\n",
       "    <tr>\n",
       "      <th>20484</th>\n",
       "      <td>-118.72</td>\n",
       "      <td>34.28</td>\n",
       "      <td>17.0</td>\n",
       "      <td>3051.0</td>\n",
       "      <td>NaN</td>\n",
       "      <td>1705.0</td>\n",
       "      <td>495.0</td>\n",
       "      <td>5.7376</td>\n",
       "      <td>218600.0</td>\n",
       "      <td>&lt;1H OCEAN</td>\n",
       "    </tr>\n",
       "  </tbody>\n",
       "</table>\n",
       "<p>207 rows × 10 columns</p>\n",
       "</div>"
      ],
      "text/plain": [
       "       longitude  latitude  housing_median_age  total_rooms  total_bedrooms  \\\n",
       "290      -122.16     37.77                47.0       1256.0             NaN   \n",
       "341      -122.17     37.75                38.0        992.0             NaN   \n",
       "538      -122.28     37.78                29.0       5154.0             NaN   \n",
       "563      -122.24     37.75                45.0        891.0             NaN   \n",
       "696      -122.10     37.69                41.0        746.0             NaN   \n",
       "...          ...       ...                 ...          ...             ...   \n",
       "20267    -119.19     34.20                18.0       3620.0             NaN   \n",
       "20268    -119.18     34.19                19.0       2393.0             NaN   \n",
       "20372    -118.88     34.17                15.0       4260.0             NaN   \n",
       "20460    -118.75     34.29                17.0       5512.0             NaN   \n",
       "20484    -118.72     34.28                17.0       3051.0             NaN   \n",
       "\n",
       "       population  households  median_income  median_house_value  \\\n",
       "290         570.0       218.0         4.3750            161900.0   \n",
       "341         732.0       259.0         1.6196             85100.0   \n",
       "538        3741.0      1273.0         2.5762            173400.0   \n",
       "563         384.0       146.0         4.9489            247100.0   \n",
       "696         387.0       161.0         3.9063            178400.0   \n",
       "...           ...         ...            ...                 ...   \n",
       "20267      3171.0       779.0         3.3409            220500.0   \n",
       "20268      1938.0       762.0         1.6953            167400.0   \n",
       "20372      1701.0       669.0         5.1033            410700.0   \n",
       "20460      2734.0       814.0         6.6073            258100.0   \n",
       "20484      1705.0       495.0         5.7376            218600.0   \n",
       "\n",
       "      ocean_proximity  \n",
       "290          NEAR BAY  \n",
       "341          NEAR BAY  \n",
       "538          NEAR BAY  \n",
       "563          NEAR BAY  \n",
       "696          NEAR BAY  \n",
       "...               ...  \n",
       "20267      NEAR OCEAN  \n",
       "20268      NEAR OCEAN  \n",
       "20372       <1H OCEAN  \n",
       "20460       <1H OCEAN  \n",
       "20484       <1H OCEAN  \n",
       "\n",
       "[207 rows x 10 columns]"
      ]
     },
     "execution_count": 5,
     "metadata": {},
     "output_type": "execute_result"
    }
   ],
   "source": [
    "# Is there any missing data in columns?\n",
    "house_data[house_data.isnull().any(axis=1)]"
   ]
  },
  {
   "cell_type": "code",
   "execution_count": 6,
   "id": "cd9c702a",
   "metadata": {},
   "outputs": [
    {
     "name": "stdout",
     "output_type": "stream",
     "text": [
      "                    count         %\n",
      "total_bedrooms        207  1.002907\n",
      "longitude               0  0.000000\n",
      "latitude                0  0.000000\n",
      "housing_median_age      0  0.000000\n",
      "total_rooms             0  0.000000\n",
      "population              0  0.000000\n",
      "households              0  0.000000\n",
      "median_income           0  0.000000\n",
      "median_house_value      0  0.000000\n",
      "ocean_proximity         0  0.000000\n"
     ]
    }
   ],
   "source": [
    "# How values are missing?\n",
    "missing = pd.concat([house_data.isnull().sum(), 100 * house_data.isnull().mean()], axis=1)\n",
    "\n",
    "missing.columns=['count', '%']\n",
    "missing = missing.sort_values(by='count', ascending=False)\n",
    "print(missing)"
   ]
  },
  {
   "cell_type": "markdown",
   "id": "530a093a",
   "metadata": {},
   "source": [
    "### 4. Data Definitions\n",
    "    * Column Name \n",
    "    * Data Types \n",
    "    * Column Description \n",
    "    * Summary statistics\n",
    "    * Range of values"
   ]
  },
  {
   "cell_type": "code",
   "execution_count": 7,
   "id": "e06e7ee0",
   "metadata": {},
   "outputs": [
    {
     "data": {
      "text/plain": [
       "count    20640.000000\n",
       "mean      -119.569704\n",
       "std          2.003532\n",
       "min       -124.350000\n",
       "25%       -121.800000\n",
       "50%       -118.490000\n",
       "75%       -118.010000\n",
       "max       -114.310000\n",
       "Name: longitude, dtype: float64"
      ]
     },
     "execution_count": 7,
     "metadata": {},
     "output_type": "execute_result"
    }
   ],
   "source": [
    "# 1. longitude\n",
    "# A measure of how far west a house is; a higher value is farther west\n",
    "house_data['longitude'].describe()"
   ]
  },
  {
   "cell_type": "code",
   "execution_count": 8,
   "id": "0f00595e",
   "metadata": {},
   "outputs": [
    {
     "name": "stdout",
     "output_type": "stream",
     "text": [
      "-124.35 -114.31 10.039999999999992\n"
     ]
    }
   ],
   "source": [
    "# 1. longitude\n",
    "min = house_data['longitude'].min()\n",
    "max = house_data['longitude'].max()\n",
    "range = max - min\n",
    "print(min, max, range)"
   ]
  },
  {
   "cell_type": "code",
   "execution_count": 9,
   "id": "95686408",
   "metadata": {},
   "outputs": [
    {
     "data": {
      "text/plain": [
       "count    20640.000000\n",
       "mean        35.631861\n",
       "std          2.135952\n",
       "min         32.540000\n",
       "25%         33.930000\n",
       "50%         34.260000\n",
       "75%         37.710000\n",
       "max         41.950000\n",
       "Name: latitude, dtype: float64"
      ]
     },
     "execution_count": 9,
     "metadata": {},
     "output_type": "execute_result"
    }
   ],
   "source": [
    "# 2. latitude\n",
    "# A measure of how far north a house is; a higher value is farther north\n",
    "house_data['latitude'].describe()"
   ]
  },
  {
   "cell_type": "code",
   "execution_count": 10,
   "id": "6a250f48",
   "metadata": {},
   "outputs": [
    {
     "name": "stdout",
     "output_type": "stream",
     "text": [
      "32.54 41.95 9.410000000000004\n"
     ]
    }
   ],
   "source": [
    "# 2. latitude\n",
    "min = house_data['latitude'].min()\n",
    "max = house_data['latitude'].max()\n",
    "range = max - min\n",
    "print(min, max, range)"
   ]
  },
  {
   "cell_type": "code",
   "execution_count": 11,
   "id": "e1774872",
   "metadata": {},
   "outputs": [
    {
     "data": {
      "text/plain": [
       "count    20640.000000\n",
       "mean        28.639486\n",
       "std         12.585558\n",
       "min          1.000000\n",
       "25%         18.000000\n",
       "50%         29.000000\n",
       "75%         37.000000\n",
       "max         52.000000\n",
       "Name: housing_median_age, dtype: float64"
      ]
     },
     "execution_count": 11,
     "metadata": {},
     "output_type": "execute_result"
    }
   ],
   "source": [
    "# 3. housing_median_age\n",
    "# Median age of a house within a block; a lower number is a newer building\n",
    "house_data['housing_median_age'].describe()"
   ]
  },
  {
   "cell_type": "code",
   "execution_count": 12,
   "id": "dc13f3f9",
   "metadata": {},
   "outputs": [
    {
     "name": "stdout",
     "output_type": "stream",
     "text": [
      "1.0 52.0 51.0\n"
     ]
    }
   ],
   "source": [
    "# 3. housing_median_age\n",
    "min = house_data['housing_median_age'].min()\n",
    "max = house_data['housing_median_age'].max()\n",
    "range = max - min\n",
    "print(min, max, range)"
   ]
  },
  {
   "cell_type": "code",
   "execution_count": 13,
   "id": "5099566f",
   "metadata": {},
   "outputs": [
    {
     "data": {
      "text/plain": [
       "count    20640.000000\n",
       "mean      2635.763081\n",
       "std       2181.615252\n",
       "min          2.000000\n",
       "25%       1447.750000\n",
       "50%       2127.000000\n",
       "75%       3148.000000\n",
       "max      39320.000000\n",
       "Name: total_rooms, dtype: float64"
      ]
     },
     "execution_count": 13,
     "metadata": {},
     "output_type": "execute_result"
    }
   ],
   "source": [
    "# 4. total_rooms\n",
    "# Total number of rooms within a block\n",
    "house_data['total_rooms'].describe()"
   ]
  },
  {
   "cell_type": "code",
   "execution_count": 14,
   "id": "790150c7",
   "metadata": {},
   "outputs": [
    {
     "name": "stdout",
     "output_type": "stream",
     "text": [
      "2.0 39320.0 39318.0\n"
     ]
    }
   ],
   "source": [
    "# 4. total_rooms\n",
    "min = house_data['total_rooms'].min()\n",
    "max = house_data['total_rooms'].max()\n",
    "range = max - min\n",
    "print(min, max, range)"
   ]
  },
  {
   "cell_type": "code",
   "execution_count": 15,
   "id": "9039cd2b",
   "metadata": {},
   "outputs": [
    {
     "data": {
      "text/plain": [
       "count    20433.000000\n",
       "mean       537.870553\n",
       "std        421.385070\n",
       "min          1.000000\n",
       "25%        296.000000\n",
       "50%        435.000000\n",
       "75%        647.000000\n",
       "max       6445.000000\n",
       "Name: total_bedrooms, dtype: float64"
      ]
     },
     "execution_count": 15,
     "metadata": {},
     "output_type": "execute_result"
    }
   ],
   "source": [
    "# 5. total_bedrooms\n",
    "# Total number of bedrooms within a block\n",
    "house_data['total_bedrooms'].describe()"
   ]
  },
  {
   "cell_type": "code",
   "execution_count": 16,
   "id": "b24ba9b1",
   "metadata": {},
   "outputs": [
    {
     "name": "stdout",
     "output_type": "stream",
     "text": [
      "1.0 6445.0 6444.0\n"
     ]
    }
   ],
   "source": [
    "# 5. total_bedrooms\n",
    "min = house_data['total_bedrooms'].min()\n",
    "max = house_data['total_bedrooms'].max()\n",
    "range = max - min\n",
    "print(min, max, range)"
   ]
  },
  {
   "cell_type": "code",
   "execution_count": 17,
   "id": "f2cb7bbe",
   "metadata": {},
   "outputs": [
    {
     "data": {
      "text/plain": [
       "count    20640.000000\n",
       "mean      1425.476744\n",
       "std       1132.462122\n",
       "min          3.000000\n",
       "25%        787.000000\n",
       "50%       1166.000000\n",
       "75%       1725.000000\n",
       "max      35682.000000\n",
       "Name: population, dtype: float64"
      ]
     },
     "execution_count": 17,
     "metadata": {},
     "output_type": "execute_result"
    }
   ],
   "source": [
    "# 6. population\n",
    "# Total number of people residing within a block\n",
    "house_data['population'].describe()"
   ]
  },
  {
   "cell_type": "code",
   "execution_count": 18,
   "id": "9bc72eb5",
   "metadata": {},
   "outputs": [
    {
     "name": "stdout",
     "output_type": "stream",
     "text": [
      "3.0 35682.0 35679.0\n"
     ]
    }
   ],
   "source": [
    "# 6. population\n",
    "min = house_data['population'].min()\n",
    "max = house_data['population'].max()\n",
    "range = max - min\n",
    "print(min, max, range)"
   ]
  },
  {
   "cell_type": "code",
   "execution_count": 19,
   "id": "ddc4cebf",
   "metadata": {},
   "outputs": [
    {
     "data": {
      "text/plain": [
       "count    20640.000000\n",
       "mean       499.539680\n",
       "std        382.329753\n",
       "min          1.000000\n",
       "25%        280.000000\n",
       "50%        409.000000\n",
       "75%        605.000000\n",
       "max       6082.000000\n",
       "Name: households, dtype: float64"
      ]
     },
     "execution_count": 19,
     "metadata": {},
     "output_type": "execute_result"
    }
   ],
   "source": [
    "# 7. households\n",
    "# Total number of households, a group of people residing within a home unit, for a block\n",
    "house_data['households'].describe()"
   ]
  },
  {
   "cell_type": "code",
   "execution_count": 20,
   "id": "1e100729",
   "metadata": {},
   "outputs": [
    {
     "name": "stdout",
     "output_type": "stream",
     "text": [
      "1.0 6082.0 6081.0\n"
     ]
    }
   ],
   "source": [
    "# 7. households\n",
    "min = house_data['households'].min()\n",
    "max = house_data['households'].max()\n",
    "range = max - min\n",
    "print(min, max, range)"
   ]
  },
  {
   "cell_type": "code",
   "execution_count": 21,
   "id": "6b5b8ad8",
   "metadata": {},
   "outputs": [
    {
     "data": {
      "text/plain": [
       "count    20640.000000\n",
       "mean         3.870671\n",
       "std          1.899822\n",
       "min          0.499900\n",
       "25%          2.563400\n",
       "50%          3.534800\n",
       "75%          4.743250\n",
       "max         15.000100\n",
       "Name: median_income, dtype: float64"
      ]
     },
     "execution_count": 21,
     "metadata": {},
     "output_type": "execute_result"
    }
   ],
   "source": [
    "# 8. median_income\n",
    "# Median income for households within a block of houses, \n",
    "# measured in tens of thousands of US Dollars\n",
    "house_data['median_income'].describe()"
   ]
  },
  {
   "cell_type": "code",
   "execution_count": 22,
   "id": "58feec5f",
   "metadata": {},
   "outputs": [
    {
     "name": "stdout",
     "output_type": "stream",
     "text": [
      "0.4999 15.0001 14.5002\n"
     ]
    }
   ],
   "source": [
    "# 8. median_income\n",
    "min = house_data['median_income'].min()\n",
    "max = house_data['median_income'].max()\n",
    "range = max - min\n",
    "print(min, max, range)"
   ]
  },
  {
   "cell_type": "code",
   "execution_count": 23,
   "id": "85a35776",
   "metadata": {},
   "outputs": [
    {
     "data": {
      "text/plain": [
       "count     20640.000000\n",
       "mean     206855.816909\n",
       "std      115395.615874\n",
       "min       14999.000000\n",
       "25%      119600.000000\n",
       "50%      179700.000000\n",
       "75%      264725.000000\n",
       "max      500001.000000\n",
       "Name: median_house_value, dtype: float64"
      ]
     },
     "execution_count": 23,
     "metadata": {},
     "output_type": "execute_result"
    }
   ],
   "source": [
    "# 9. median_house_value \n",
    "# Median house value for households within a block (measured in US Dollars)\n",
    "house_data['median_house_value'].describe()"
   ]
  },
  {
   "cell_type": "code",
   "execution_count": 24,
   "id": "3eb6accf",
   "metadata": {},
   "outputs": [
    {
     "name": "stdout",
     "output_type": "stream",
     "text": [
      "14999.0 500001.0 485002.0\n"
     ]
    }
   ],
   "source": [
    "# 9. median_house_value \n",
    "min = house_data['median_house_value'].min()\n",
    "max = house_data['median_house_value'].max()\n",
    "range = max - min\n",
    "print(min, max, range)"
   ]
  },
  {
   "cell_type": "code",
   "execution_count": 25,
   "id": "8ab40c1d",
   "metadata": {},
   "outputs": [
    {
     "data": {
      "text/plain": [
       "count         20640\n",
       "unique            5\n",
       "top       <1H OCEAN\n",
       "freq           9136\n",
       "Name: ocean_proximity, dtype: object"
      ]
     },
     "execution_count": 25,
     "metadata": {},
     "output_type": "execute_result"
    }
   ],
   "source": [
    "# 10. ocean_proximity\n",
    "# Location of the house with respect to the ocean/sea\n",
    "house_data['ocean_proximity'].describe()"
   ]
  },
  {
   "cell_type": "code",
   "execution_count": 26,
   "id": "9981a48b",
   "metadata": {},
   "outputs": [
    {
     "data": {
      "text/plain": [
       "<1H OCEAN     9136\n",
       "INLAND        6551\n",
       "NEAR OCEAN    2658\n",
       "NEAR BAY      2290\n",
       "ISLAND           5\n",
       "Name: ocean_proximity, dtype: int64"
      ]
     },
     "execution_count": 26,
     "metadata": {},
     "output_type": "execute_result"
    }
   ],
   "source": [
    "# 10. ocean_proximity\n",
    "house_data['ocean_proximity'].value_counts()"
   ]
  },
  {
   "cell_type": "markdown",
   "id": "f65825bd",
   "metadata": {},
   "source": [
    "### 5. Updating Data Types\n",
    "* total_rooms should be an int32\n",
    "* total_bedrooms should be an int32\n",
    "* population should be an integer int64\n",
    "* households should be an integer int64\n",
    "* median_income should be in dollars, not in thousands of dollars\n",
    "* convert ocean_proximity to category variable type"
   ]
  },
  {
   "cell_type": "code",
   "execution_count": 27,
   "id": "a66565db",
   "metadata": {},
   "outputs": [
    {
     "name": "stdout",
     "output_type": "stream",
     "text": [
      "<class 'pandas.core.frame.DataFrame'>\n",
      "RangeIndex: 20640 entries, 0 to 20639\n",
      "Data columns (total 10 columns):\n",
      " #   Column              Non-Null Count  Dtype  \n",
      "---  ------              --------------  -----  \n",
      " 0   longitude           20640 non-null  float64\n",
      " 1   latitude            20640 non-null  float64\n",
      " 2   housing_median_age  20640 non-null  float64\n",
      " 3   total_rooms         20640 non-null  float64\n",
      " 4   total_bedrooms      20433 non-null  float64\n",
      " 5   population          20640 non-null  float64\n",
      " 6   households          20640 non-null  float64\n",
      " 7   median_income       20640 non-null  float64\n",
      " 8   median_house_value  20640 non-null  float64\n",
      " 9   ocean_proximity     20640 non-null  object \n",
      "dtypes: float64(9), object(1)\n",
      "memory usage: 1.6+ MB\n"
     ]
    }
   ],
   "source": [
    "df = house_data\n",
    "df.info()"
   ]
  },
  {
   "cell_type": "code",
   "execution_count": 28,
   "id": "7f9533d5",
   "metadata": {},
   "outputs": [],
   "source": [
    "# total_rooms should be an integer \n",
    "df['total_rooms'] = df['total_rooms'].astype('int')"
   ]
  },
  {
   "cell_type": "code",
   "execution_count": 29,
   "id": "9c2b1030",
   "metadata": {},
   "outputs": [],
   "source": [
    "# population should be an integer\n",
    "df['population'] = df['population'].astype('int')"
   ]
  },
  {
   "cell_type": "code",
   "execution_count": 30,
   "id": "3d8fe99c",
   "metadata": {},
   "outputs": [],
   "source": [
    "# households should be an integer int64\n",
    "df['households'] = df['households'].astype('int')"
   ]
  },
  {
   "cell_type": "code",
   "execution_count": 31,
   "id": "3ec59faf",
   "metadata": {},
   "outputs": [],
   "source": [
    "# median_income should be in dollars, not in thousands of dollars\n",
    "df['median_income'] = df['median_income'] * 10000"
   ]
  },
  {
   "cell_type": "code",
   "execution_count": 32,
   "id": "766bc1b3",
   "metadata": {},
   "outputs": [],
   "source": [
    "# convert ocean proximity to category variable type \n",
    "df['ocean_proximity'] = df['ocean_proximity'].astype('category')"
   ]
  },
  {
   "cell_type": "code",
   "execution_count": 33,
   "id": "9d329606",
   "metadata": {},
   "outputs": [
    {
     "name": "stdout",
     "output_type": "stream",
     "text": [
      "<class 'pandas.core.frame.DataFrame'>\n",
      "RangeIndex: 20640 entries, 0 to 20639\n",
      "Data columns (total 10 columns):\n",
      " #   Column              Non-Null Count  Dtype   \n",
      "---  ------              --------------  -----   \n",
      " 0   longitude           20640 non-null  float64 \n",
      " 1   latitude            20640 non-null  float64 \n",
      " 2   housing_median_age  20640 non-null  float64 \n",
      " 3   total_rooms         20640 non-null  int64   \n",
      " 4   total_bedrooms      20433 non-null  float64 \n",
      " 5   population          20640 non-null  int64   \n",
      " 6   households          20640 non-null  int64   \n",
      " 7   median_income       20640 non-null  float64 \n",
      " 8   median_house_value  20640 non-null  float64 \n",
      " 9   ocean_proximity     20640 non-null  category\n",
      "dtypes: category(1), float64(6), int64(3)\n",
      "memory usage: 1.4 MB\n"
     ]
    }
   ],
   "source": [
    "df.info()"
   ]
  },
  {
   "cell_type": "code",
   "execution_count": 34,
   "id": "316940fc",
   "metadata": {},
   "outputs": [],
   "source": [
    "# I can't change the data type for total_bedrooms because there are missing values."
   ]
  },
  {
   "cell_type": "markdown",
   "id": "3ae1de75",
   "metadata": {},
   "source": [
    "### 6. Is there a reason the data is missing? \n",
    "#### Deal with the missing data"
   ]
  },
  {
   "cell_type": "code",
   "execution_count": 35,
   "id": "f2dc6b99",
   "metadata": {},
   "outputs": [
    {
     "data": {
      "text/html": [
       "<div>\n",
       "<style scoped>\n",
       "    .dataframe tbody tr th:only-of-type {\n",
       "        vertical-align: middle;\n",
       "    }\n",
       "\n",
       "    .dataframe tbody tr th {\n",
       "        vertical-align: top;\n",
       "    }\n",
       "\n",
       "    .dataframe thead th {\n",
       "        text-align: right;\n",
       "    }\n",
       "</style>\n",
       "<table border=\"1\" class=\"dataframe\">\n",
       "  <thead>\n",
       "    <tr style=\"text-align: right;\">\n",
       "      <th></th>\n",
       "      <th>longitude</th>\n",
       "      <th>latitude</th>\n",
       "      <th>housing_median_age</th>\n",
       "      <th>total_rooms</th>\n",
       "      <th>total_bedrooms</th>\n",
       "      <th>population</th>\n",
       "      <th>households</th>\n",
       "      <th>median_income</th>\n",
       "      <th>median_house_value</th>\n",
       "    </tr>\n",
       "  </thead>\n",
       "  <tbody>\n",
       "    <tr>\n",
       "      <th>count</th>\n",
       "      <td>207.000000</td>\n",
       "      <td>207.000000</td>\n",
       "      <td>207.000000</td>\n",
       "      <td>207.000000</td>\n",
       "      <td>0.0</td>\n",
       "      <td>207.000000</td>\n",
       "      <td>207.000000</td>\n",
       "      <td>207.000000</td>\n",
       "      <td>207.000000</td>\n",
       "    </tr>\n",
       "    <tr>\n",
       "      <th>mean</th>\n",
       "      <td>-119.472560</td>\n",
       "      <td>35.497633</td>\n",
       "      <td>29.270531</td>\n",
       "      <td>2562.603865</td>\n",
       "      <td>NaN</td>\n",
       "      <td>1477.772947</td>\n",
       "      <td>510.024155</td>\n",
       "      <td>38222.439614</td>\n",
       "      <td>206007.280193</td>\n",
       "    </tr>\n",
       "    <tr>\n",
       "      <th>std</th>\n",
       "      <td>2.001424</td>\n",
       "      <td>2.097298</td>\n",
       "      <td>11.964927</td>\n",
       "      <td>1787.269789</td>\n",
       "      <td>NaN</td>\n",
       "      <td>1057.448212</td>\n",
       "      <td>386.120704</td>\n",
       "      <td>19555.946874</td>\n",
       "      <td>111638.214545</td>\n",
       "    </tr>\n",
       "    <tr>\n",
       "      <th>min</th>\n",
       "      <td>-124.130000</td>\n",
       "      <td>32.660000</td>\n",
       "      <td>4.000000</td>\n",
       "      <td>154.000000</td>\n",
       "      <td>NaN</td>\n",
       "      <td>37.000000</td>\n",
       "      <td>16.000000</td>\n",
       "      <td>8527.000000</td>\n",
       "      <td>45800.000000</td>\n",
       "    </tr>\n",
       "    <tr>\n",
       "      <th>25%</th>\n",
       "      <td>-121.810000</td>\n",
       "      <td>33.970000</td>\n",
       "      <td>19.000000</td>\n",
       "      <td>1307.500000</td>\n",
       "      <td>NaN</td>\n",
       "      <td>781.000000</td>\n",
       "      <td>258.000000</td>\n",
       "      <td>25641.500000</td>\n",
       "      <td>128750.000000</td>\n",
       "    </tr>\n",
       "    <tr>\n",
       "      <th>50%</th>\n",
       "      <td>-118.490000</td>\n",
       "      <td>34.200000</td>\n",
       "      <td>30.000000</td>\n",
       "      <td>2155.000000</td>\n",
       "      <td>NaN</td>\n",
       "      <td>1217.000000</td>\n",
       "      <td>427.000000</td>\n",
       "      <td>34115.000000</td>\n",
       "      <td>175000.000000</td>\n",
       "    </tr>\n",
       "    <tr>\n",
       "      <th>75%</th>\n",
       "      <td>-117.985000</td>\n",
       "      <td>37.495000</td>\n",
       "      <td>38.000000</td>\n",
       "      <td>3465.000000</td>\n",
       "      <td>NaN</td>\n",
       "      <td>1889.500000</td>\n",
       "      <td>628.000000</td>\n",
       "      <td>46157.500000</td>\n",
       "      <td>267700.000000</td>\n",
       "    </tr>\n",
       "    <tr>\n",
       "      <th>max</th>\n",
       "      <td>-114.590000</td>\n",
       "      <td>40.920000</td>\n",
       "      <td>52.000000</td>\n",
       "      <td>11709.000000</td>\n",
       "      <td>NaN</td>\n",
       "      <td>7604.000000</td>\n",
       "      <td>3589.000000</td>\n",
       "      <td>150001.000000</td>\n",
       "      <td>500001.000000</td>\n",
       "    </tr>\n",
       "  </tbody>\n",
       "</table>\n",
       "</div>"
      ],
      "text/plain": [
       "        longitude    latitude  housing_median_age   total_rooms  \\\n",
       "count  207.000000  207.000000          207.000000    207.000000   \n",
       "mean  -119.472560   35.497633           29.270531   2562.603865   \n",
       "std      2.001424    2.097298           11.964927   1787.269789   \n",
       "min   -124.130000   32.660000            4.000000    154.000000   \n",
       "25%   -121.810000   33.970000           19.000000   1307.500000   \n",
       "50%   -118.490000   34.200000           30.000000   2155.000000   \n",
       "75%   -117.985000   37.495000           38.000000   3465.000000   \n",
       "max   -114.590000   40.920000           52.000000  11709.000000   \n",
       "\n",
       "       total_bedrooms   population   households  median_income  \\\n",
       "count             0.0   207.000000   207.000000     207.000000   \n",
       "mean              NaN  1477.772947   510.024155   38222.439614   \n",
       "std               NaN  1057.448212   386.120704   19555.946874   \n",
       "min               NaN    37.000000    16.000000    8527.000000   \n",
       "25%               NaN   781.000000   258.000000   25641.500000   \n",
       "50%               NaN  1217.000000   427.000000   34115.000000   \n",
       "75%               NaN  1889.500000   628.000000   46157.500000   \n",
       "max               NaN  7604.000000  3589.000000  150001.000000   \n",
       "\n",
       "       median_house_value  \n",
       "count          207.000000  \n",
       "mean        206007.280193  \n",
       "std         111638.214545  \n",
       "min          45800.000000  \n",
       "25%         128750.000000  \n",
       "50%         175000.000000  \n",
       "75%         267700.000000  \n",
       "max         500001.000000  "
      ]
     },
     "execution_count": 35,
     "metadata": {},
     "output_type": "execute_result"
    }
   ],
   "source": [
    "# There is only missing data in total_bedrooms\n",
    "missing_list = house_data['total_bedrooms'].isnull()\n",
    "df_missing = house_data[missing_list]\n",
    "df_missing.describe()"
   ]
  },
  {
   "cell_type": "code",
   "execution_count": 36,
   "id": "447f6c49",
   "metadata": {},
   "outputs": [
    {
     "data": {
      "text/html": [
       "<div>\n",
       "<style scoped>\n",
       "    .dataframe tbody tr th:only-of-type {\n",
       "        vertical-align: middle;\n",
       "    }\n",
       "\n",
       "    .dataframe tbody tr th {\n",
       "        vertical-align: top;\n",
       "    }\n",
       "\n",
       "    .dataframe thead th {\n",
       "        text-align: right;\n",
       "    }\n",
       "</style>\n",
       "<table border=\"1\" class=\"dataframe\">\n",
       "  <thead>\n",
       "    <tr style=\"text-align: right;\">\n",
       "      <th></th>\n",
       "      <th>longitude</th>\n",
       "      <th>latitude</th>\n",
       "      <th>housing_median_age</th>\n",
       "      <th>total_rooms</th>\n",
       "      <th>total_bedrooms</th>\n",
       "      <th>population</th>\n",
       "      <th>households</th>\n",
       "      <th>median_income</th>\n",
       "      <th>median_house_value</th>\n",
       "      <th>ocean_proximity</th>\n",
       "    </tr>\n",
       "  </thead>\n",
       "  <tbody>\n",
       "    <tr>\n",
       "      <th>290</th>\n",
       "      <td>-122.16</td>\n",
       "      <td>37.77</td>\n",
       "      <td>47.0</td>\n",
       "      <td>1256</td>\n",
       "      <td>NaN</td>\n",
       "      <td>570</td>\n",
       "      <td>218</td>\n",
       "      <td>43750.0</td>\n",
       "      <td>161900.0</td>\n",
       "      <td>NEAR BAY</td>\n",
       "    </tr>\n",
       "    <tr>\n",
       "      <th>341</th>\n",
       "      <td>-122.17</td>\n",
       "      <td>37.75</td>\n",
       "      <td>38.0</td>\n",
       "      <td>992</td>\n",
       "      <td>NaN</td>\n",
       "      <td>732</td>\n",
       "      <td>259</td>\n",
       "      <td>16196.0</td>\n",
       "      <td>85100.0</td>\n",
       "      <td>NEAR BAY</td>\n",
       "    </tr>\n",
       "    <tr>\n",
       "      <th>538</th>\n",
       "      <td>-122.28</td>\n",
       "      <td>37.78</td>\n",
       "      <td>29.0</td>\n",
       "      <td>5154</td>\n",
       "      <td>NaN</td>\n",
       "      <td>3741</td>\n",
       "      <td>1273</td>\n",
       "      <td>25762.0</td>\n",
       "      <td>173400.0</td>\n",
       "      <td>NEAR BAY</td>\n",
       "    </tr>\n",
       "    <tr>\n",
       "      <th>563</th>\n",
       "      <td>-122.24</td>\n",
       "      <td>37.75</td>\n",
       "      <td>45.0</td>\n",
       "      <td>891</td>\n",
       "      <td>NaN</td>\n",
       "      <td>384</td>\n",
       "      <td>146</td>\n",
       "      <td>49489.0</td>\n",
       "      <td>247100.0</td>\n",
       "      <td>NEAR BAY</td>\n",
       "    </tr>\n",
       "    <tr>\n",
       "      <th>696</th>\n",
       "      <td>-122.10</td>\n",
       "      <td>37.69</td>\n",
       "      <td>41.0</td>\n",
       "      <td>746</td>\n",
       "      <td>NaN</td>\n",
       "      <td>387</td>\n",
       "      <td>161</td>\n",
       "      <td>39063.0</td>\n",
       "      <td>178400.0</td>\n",
       "      <td>NEAR BAY</td>\n",
       "    </tr>\n",
       "  </tbody>\n",
       "</table>\n",
       "</div>"
      ],
      "text/plain": [
       "     longitude  latitude  housing_median_age  total_rooms  total_bedrooms  \\\n",
       "290    -122.16     37.77                47.0         1256             NaN   \n",
       "341    -122.17     37.75                38.0          992             NaN   \n",
       "538    -122.28     37.78                29.0         5154             NaN   \n",
       "563    -122.24     37.75                45.0          891             NaN   \n",
       "696    -122.10     37.69                41.0          746             NaN   \n",
       "\n",
       "     population  households  median_income  median_house_value ocean_proximity  \n",
       "290         570         218        43750.0            161900.0        NEAR BAY  \n",
       "341         732         259        16196.0             85100.0        NEAR BAY  \n",
       "538        3741        1273        25762.0            173400.0        NEAR BAY  \n",
       "563         384         146        49489.0            247100.0        NEAR BAY  \n",
       "696         387         161        39063.0            178400.0        NEAR BAY  "
      ]
     },
     "execution_count": 36,
     "metadata": {},
     "output_type": "execute_result"
    }
   ],
   "source": [
    "df_missing.head()"
   ]
  },
  {
   "cell_type": "code",
   "execution_count": 37,
   "id": "f27117c9",
   "metadata": {},
   "outputs": [
    {
     "data": {
      "text/plain": [
       "(count     20640.000000\n",
       " mean     206855.816909\n",
       " std      115395.615874\n",
       " min       14999.000000\n",
       " 25%      119600.000000\n",
       " 50%      179700.000000\n",
       " 75%      264725.000000\n",
       " max      500001.000000\n",
       " Name: median_house_value, dtype: float64,\n",
       " count       207.000000\n",
       " mean     206007.280193\n",
       " std      111638.214545\n",
       " min       45800.000000\n",
       " 25%      128750.000000\n",
       " 50%      175000.000000\n",
       " 75%      267700.000000\n",
       " max      500001.000000\n",
       " Name: median_house_value, dtype: float64)"
      ]
     },
     "execution_count": 37,
     "metadata": {},
     "output_type": "execute_result"
    }
   ],
   "source": [
    "house_data['median_house_value'].describe(), df_missing['median_house_value'].describe()"
   ]
  },
  {
   "cell_type": "code",
   "execution_count": 38,
   "id": "f9f17c04",
   "metadata": {},
   "outputs": [
    {
     "data": {
      "text/plain": [
       "(count     20640.000000\n",
       " mean      38706.710029\n",
       " std       18998.217179\n",
       " min        4999.000000\n",
       " 25%       25634.000000\n",
       " 50%       35348.000000\n",
       " 75%       47432.500000\n",
       " max      150001.000000\n",
       " Name: median_income, dtype: float64,\n",
       " count       207.000000\n",
       " mean      38222.439614\n",
       " std       19555.946874\n",
       " min        8527.000000\n",
       " 25%       25641.500000\n",
       " 50%       34115.000000\n",
       " 75%       46157.500000\n",
       " max      150001.000000\n",
       " Name: median_income, dtype: float64)"
      ]
     },
     "execution_count": 38,
     "metadata": {},
     "output_type": "execute_result"
    }
   ],
   "source": [
    "house_data['median_income'].describe(), df_missing['median_income'].describe()"
   ]
  },
  {
   "cell_type": "code",
   "execution_count": 39,
   "id": "2dfd0203",
   "metadata": {},
   "outputs": [
    {
     "data": {
      "text/plain": [
       "(count    20640.000000\n",
       " mean       499.539680\n",
       " std        382.329753\n",
       " min          1.000000\n",
       " 25%        280.000000\n",
       " 50%        409.000000\n",
       " 75%        605.000000\n",
       " max       6082.000000\n",
       " Name: households, dtype: float64,\n",
       " count     207.000000\n",
       " mean      510.024155\n",
       " std       386.120704\n",
       " min        16.000000\n",
       " 25%       258.000000\n",
       " 50%       427.000000\n",
       " 75%       628.000000\n",
       " max      3589.000000\n",
       " Name: households, dtype: float64)"
      ]
     },
     "execution_count": 39,
     "metadata": {},
     "output_type": "execute_result"
    }
   ],
   "source": [
    "house_data['households'].describe(), df_missing['households'].describe()"
   ]
  },
  {
   "cell_type": "code",
   "execution_count": 40,
   "id": "bc389350",
   "metadata": {},
   "outputs": [
    {
     "data": {
      "text/plain": [
       "(count    20640.000000\n",
       " mean      1425.476744\n",
       " std       1132.462122\n",
       " min          3.000000\n",
       " 25%        787.000000\n",
       " 50%       1166.000000\n",
       " 75%       1725.000000\n",
       " max      35682.000000\n",
       " Name: population, dtype: float64,\n",
       " count     207.000000\n",
       " mean     1477.772947\n",
       " std      1057.448212\n",
       " min        37.000000\n",
       " 25%       781.000000\n",
       " 50%      1217.000000\n",
       " 75%      1889.500000\n",
       " max      7604.000000\n",
       " Name: population, dtype: float64)"
      ]
     },
     "execution_count": 40,
     "metadata": {},
     "output_type": "execute_result"
    }
   ],
   "source": [
    "house_data['population'].describe(), df_missing['population'].describe()"
   ]
  },
  {
   "cell_type": "markdown",
   "id": "30e87e24",
   "metadata": {},
   "source": [
    "## 6. Dealing with missing Data"
   ]
  },
  {
   "cell_type": "code",
   "execution_count": 41,
   "id": "c6f6be6a",
   "metadata": {},
   "outputs": [
    {
     "name": "stdout",
     "output_type": "stream",
     "text": [
      "<class 'pandas.core.frame.DataFrame'>\n",
      "RangeIndex: 20640 entries, 0 to 20639\n",
      "Data columns (total 10 columns):\n",
      " #   Column              Non-Null Count  Dtype   \n",
      "---  ------              --------------  -----   \n",
      " 0   longitude           20640 non-null  float64 \n",
      " 1   latitude            20640 non-null  float64 \n",
      " 2   housing_median_age  20640 non-null  float64 \n",
      " 3   total_rooms         20640 non-null  int64   \n",
      " 4   total_bedrooms      20433 non-null  float64 \n",
      " 5   population          20640 non-null  int64   \n",
      " 6   households          20640 non-null  int64   \n",
      " 7   median_income       20640 non-null  float64 \n",
      " 8   median_house_value  20640 non-null  float64 \n",
      " 9   ocean_proximity     20640 non-null  category\n",
      "dtypes: category(1), float64(6), int64(3)\n",
      "memory usage: 1.4 MB\n"
     ]
    }
   ],
   "source": [
    "df.info()"
   ]
  },
  {
   "cell_type": "markdown",
   "id": "d905bf60",
   "metadata": {},
   "source": [
    "### 6A Dropping rows with Null total_bedroom values"
   ]
  },
  {
   "cell_type": "code",
   "execution_count": 42,
   "id": "05325d1c",
   "metadata": {},
   "outputs": [],
   "source": [
    "df.dropna(inplace = True)"
   ]
  },
  {
   "cell_type": "markdown",
   "id": "8f1bf2a2",
   "metadata": {},
   "source": [
    "### 6B Replace rows with Null total_bedrooms values with the mean"
   ]
  },
  {
   "cell_type": "code",
   "execution_count": 43,
   "id": "26c8eca3",
   "metadata": {},
   "outputs": [],
   "source": [
    "mean_bedrooms = {'total_bedrooms' : df.total_bedrooms.mean()}\n",
    "# df.fillna(mean_bedrooms, inplace = True)"
   ]
  },
  {
   "cell_type": "markdown",
   "id": "bb200c43",
   "metadata": {},
   "source": [
    "### 6C Replace rows with Null total_bedrooms vales with the median"
   ]
  },
  {
   "cell_type": "code",
   "execution_count": 44,
   "id": "e50aa0b4",
   "metadata": {},
   "outputs": [],
   "source": [
    "median_bedrooms = {'total_bedrooms' : df.total_bedrooms.median()}\n",
    "# df.fillna(median_bedrooms, inplace = True)"
   ]
  },
  {
   "cell_type": "markdown",
   "id": "e61ef1cf",
   "metadata": {},
   "source": [
    "### 6D Replace with zero"
   ]
  },
  {
   "cell_type": "code",
   "execution_count": 45,
   "id": "71268c0d",
   "metadata": {},
   "outputs": [],
   "source": [
    "zero = {'total_bedrooms': 0}\n",
    "# df.fillna(zero, inplace = True)"
   ]
  },
  {
   "cell_type": "code",
   "execution_count": 46,
   "id": "8453ea34",
   "metadata": {},
   "outputs": [
    {
     "data": {
      "text/plain": [
       "longitude             0\n",
       "latitude              0\n",
       "housing_median_age    0\n",
       "total_rooms           0\n",
       "total_bedrooms        0\n",
       "population            0\n",
       "households            0\n",
       "median_income         0\n",
       "median_house_value    0\n",
       "ocean_proximity       0\n",
       "dtype: int64"
      ]
     },
     "execution_count": 46,
     "metadata": {},
     "output_type": "execute_result"
    }
   ],
   "source": [
    "df.isna().sum()"
   ]
  },
  {
   "cell_type": "markdown",
   "id": "24805c33",
   "metadata": {},
   "source": [
    "#### Converting the last column to an integer"
   ]
  },
  {
   "cell_type": "code",
   "execution_count": 47,
   "id": "52ddc872",
   "metadata": {},
   "outputs": [
    {
     "name": "stdout",
     "output_type": "stream",
     "text": [
      "<class 'pandas.core.frame.DataFrame'>\n",
      "Int64Index: 20433 entries, 0 to 20639\n",
      "Data columns (total 10 columns):\n",
      " #   Column              Non-Null Count  Dtype   \n",
      "---  ------              --------------  -----   \n",
      " 0   longitude           20433 non-null  float64 \n",
      " 1   latitude            20433 non-null  float64 \n",
      " 2   housing_median_age  20433 non-null  float64 \n",
      " 3   total_rooms         20433 non-null  int64   \n",
      " 4   total_bedrooms      20433 non-null  float64 \n",
      " 5   population          20433 non-null  int64   \n",
      " 6   households          20433 non-null  int64   \n",
      " 7   median_income       20433 non-null  float64 \n",
      " 8   median_house_value  20433 non-null  float64 \n",
      " 9   ocean_proximity     20433 non-null  category\n",
      "dtypes: category(1), float64(6), int64(3)\n",
      "memory usage: 1.6 MB\n"
     ]
    }
   ],
   "source": [
    "df.info()"
   ]
  },
  {
   "cell_type": "code",
   "execution_count": 48,
   "id": "b4063f46",
   "metadata": {},
   "outputs": [],
   "source": [
    "# total_bedrooms should be an int\n",
    "df['total_bedrooms'] = df['total_bedrooms'].astype('int')"
   ]
  },
  {
   "cell_type": "code",
   "execution_count": 49,
   "id": "3f308852",
   "metadata": {},
   "outputs": [
    {
     "name": "stdout",
     "output_type": "stream",
     "text": [
      "<class 'pandas.core.frame.DataFrame'>\n",
      "Int64Index: 20433 entries, 0 to 20639\n",
      "Data columns (total 10 columns):\n",
      " #   Column              Non-Null Count  Dtype   \n",
      "---  ------              --------------  -----   \n",
      " 0   longitude           20433 non-null  float64 \n",
      " 1   latitude            20433 non-null  float64 \n",
      " 2   housing_median_age  20433 non-null  float64 \n",
      " 3   total_rooms         20433 non-null  int64   \n",
      " 4   total_bedrooms      20433 non-null  int64   \n",
      " 5   population          20433 non-null  int64   \n",
      " 6   households          20433 non-null  int64   \n",
      " 7   median_income       20433 non-null  float64 \n",
      " 8   median_house_value  20433 non-null  float64 \n",
      " 9   ocean_proximity     20433 non-null  category\n",
      "dtypes: category(1), float64(5), int64(4)\n",
      "memory usage: 1.6 MB\n"
     ]
    }
   ],
   "source": [
    "df.info()"
   ]
  },
  {
   "cell_type": "code",
   "execution_count": 50,
   "id": "920573d3",
   "metadata": {},
   "outputs": [
    {
     "data": {
      "text/plain": [
       "count    20433.000000\n",
       "mean       537.870553\n",
       "std        421.385070\n",
       "min          1.000000\n",
       "25%        296.000000\n",
       "50%        435.000000\n",
       "75%        647.000000\n",
       "max       6445.000000\n",
       "Name: total_bedrooms, dtype: float64"
      ]
     },
     "execution_count": 50,
     "metadata": {},
     "output_type": "execute_result"
    }
   ],
   "source": [
    "df.total_bedrooms.describe()"
   ]
  },
  {
   "cell_type": "code",
   "execution_count": 51,
   "id": "836b2477",
   "metadata": {},
   "outputs": [],
   "source": [
    "df.to_csv('../cleaned_data/ready_for_EDA.csv')"
   ]
  },
  {
   "cell_type": "code",
   "execution_count": null,
   "id": "163013a9",
   "metadata": {},
   "outputs": [],
   "source": []
  }
 ],
 "metadata": {
  "kernelspec": {
   "display_name": "Python 3 (ipykernel)",
   "language": "python",
   "name": "python3"
  },
  "language_info": {
   "codemirror_mode": {
    "name": "ipython",
    "version": 3
   },
   "file_extension": ".py",
   "mimetype": "text/x-python",
   "name": "python",
   "nbconvert_exporter": "python",
   "pygments_lexer": "ipython3",
   "version": "3.9.12"
  }
 },
 "nbformat": 4,
 "nbformat_minor": 5
}
