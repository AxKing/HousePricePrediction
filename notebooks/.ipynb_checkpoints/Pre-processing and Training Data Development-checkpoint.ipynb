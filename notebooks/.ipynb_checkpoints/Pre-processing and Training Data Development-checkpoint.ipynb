{
 "cells": [
  {
   "cell_type": "markdown",
   "id": "2b2692b7",
   "metadata": {},
   "source": [
    "# California Housing Prices \n",
    "## Pre-Processing and \n",
    "### by Anthony Medina"
   ]
  },
  {
   "cell_type": "markdown",
   "id": "c4a1047f",
   "metadata": {},
   "source": [
    "# Pre-Processing and Training Data Development\n",
    "\n",
    "## Table of Contents\n",
    "1. Introduction and Notebook Objectives\n",
    "2. Imports and Loading the data\n",
    "3. Dealing with Categorical Variables\n",
    "4. Normalizing and Scaling Data\n",
    "5. Splitting the data into testing and training sets\n",
    "6. Modeling"
   ]
  },
  {
   "cell_type": "markdown",
   "id": "701687af",
   "metadata": {},
   "source": [
    "### 1. Introduction and Notebook Objectives\n",
    "We'll be preparing a cleaned up version of the [(Kaggle-California Housing Prices)](https://www.kaggle.com/datasets/camnugent/california-housing-prices) data set. \n",
    "\n",
    "The objective is to prepare the data for machine learning.\n",
    "By the end of this notebook, gategorical variables will have been converted to numeric. The data will be scaled and normalized."
   ]
  },
  {
   "cell_type": "markdown",
   "id": "190b5643",
   "metadata": {},
   "source": [
    "### 2. Imports and load the data"
   ]
  },
  {
   "cell_type": "code",
   "execution_count": 65,
   "id": "4effd553",
   "metadata": {},
   "outputs": [],
   "source": [
    "# Imports\n",
    "import pandas as pd\n",
    "import numpy as np\n",
    "import matplotlib.pyplot as plt\n",
    "import seaborn as sns\n",
    "from scipy import stats\n",
    "from sklearn.model_selection import train_test_split"
   ]
  },
  {
   "cell_type": "code",
   "execution_count": 66,
   "id": "e1416658",
   "metadata": {},
   "outputs": [],
   "source": [
    "# Import the data from the cleaned data folder\n",
    "house_data = pd.read_csv('../cleaned_data/ready_for_EDA.csv', index_col = 0)"
   ]
  },
  {
   "cell_type": "code",
   "execution_count": 67,
   "id": "bd281a55",
   "metadata": {},
   "outputs": [
    {
     "data": {
      "text/html": [
       "<div>\n",
       "<style scoped>\n",
       "    .dataframe tbody tr th:only-of-type {\n",
       "        vertical-align: middle;\n",
       "    }\n",
       "\n",
       "    .dataframe tbody tr th {\n",
       "        vertical-align: top;\n",
       "    }\n",
       "\n",
       "    .dataframe thead th {\n",
       "        text-align: right;\n",
       "    }\n",
       "</style>\n",
       "<table border=\"1\" class=\"dataframe\">\n",
       "  <thead>\n",
       "    <tr style=\"text-align: right;\">\n",
       "      <th></th>\n",
       "      <th>longitude</th>\n",
       "      <th>latitude</th>\n",
       "      <th>housing_median_age</th>\n",
       "      <th>total_rooms</th>\n",
       "      <th>total_bedrooms</th>\n",
       "      <th>population</th>\n",
       "      <th>households</th>\n",
       "      <th>median_income</th>\n",
       "      <th>median_house_value</th>\n",
       "      <th>ocean_proximity</th>\n",
       "    </tr>\n",
       "  </thead>\n",
       "  <tbody>\n",
       "    <tr>\n",
       "      <th>0</th>\n",
       "      <td>-122.23</td>\n",
       "      <td>37.88</td>\n",
       "      <td>41.0</td>\n",
       "      <td>880</td>\n",
       "      <td>129</td>\n",
       "      <td>322</td>\n",
       "      <td>126</td>\n",
       "      <td>83252.0</td>\n",
       "      <td>452600.0</td>\n",
       "      <td>NEAR BAY</td>\n",
       "    </tr>\n",
       "    <tr>\n",
       "      <th>1</th>\n",
       "      <td>-122.22</td>\n",
       "      <td>37.86</td>\n",
       "      <td>21.0</td>\n",
       "      <td>7099</td>\n",
       "      <td>1106</td>\n",
       "      <td>2401</td>\n",
       "      <td>1138</td>\n",
       "      <td>83014.0</td>\n",
       "      <td>358500.0</td>\n",
       "      <td>NEAR BAY</td>\n",
       "    </tr>\n",
       "    <tr>\n",
       "      <th>2</th>\n",
       "      <td>-122.24</td>\n",
       "      <td>37.85</td>\n",
       "      <td>52.0</td>\n",
       "      <td>1467</td>\n",
       "      <td>190</td>\n",
       "      <td>496</td>\n",
       "      <td>177</td>\n",
       "      <td>72574.0</td>\n",
       "      <td>352100.0</td>\n",
       "      <td>NEAR BAY</td>\n",
       "    </tr>\n",
       "    <tr>\n",
       "      <th>3</th>\n",
       "      <td>-122.25</td>\n",
       "      <td>37.85</td>\n",
       "      <td>52.0</td>\n",
       "      <td>1274</td>\n",
       "      <td>235</td>\n",
       "      <td>558</td>\n",
       "      <td>219</td>\n",
       "      <td>56431.0</td>\n",
       "      <td>341300.0</td>\n",
       "      <td>NEAR BAY</td>\n",
       "    </tr>\n",
       "    <tr>\n",
       "      <th>4</th>\n",
       "      <td>-122.25</td>\n",
       "      <td>37.85</td>\n",
       "      <td>52.0</td>\n",
       "      <td>1627</td>\n",
       "      <td>280</td>\n",
       "      <td>565</td>\n",
       "      <td>259</td>\n",
       "      <td>38462.0</td>\n",
       "      <td>342200.0</td>\n",
       "      <td>NEAR BAY</td>\n",
       "    </tr>\n",
       "  </tbody>\n",
       "</table>\n",
       "</div>"
      ],
      "text/plain": [
       "   longitude  latitude  housing_median_age  total_rooms  total_bedrooms  \\\n",
       "0    -122.23     37.88                41.0          880             129   \n",
       "1    -122.22     37.86                21.0         7099            1106   \n",
       "2    -122.24     37.85                52.0         1467             190   \n",
       "3    -122.25     37.85                52.0         1274             235   \n",
       "4    -122.25     37.85                52.0         1627             280   \n",
       "\n",
       "   population  households  median_income  median_house_value ocean_proximity  \n",
       "0         322         126        83252.0            452600.0        NEAR BAY  \n",
       "1        2401        1138        83014.0            358500.0        NEAR BAY  \n",
       "2         496         177        72574.0            352100.0        NEAR BAY  \n",
       "3         558         219        56431.0            341300.0        NEAR BAY  \n",
       "4         565         259        38462.0            342200.0        NEAR BAY  "
      ]
     },
     "execution_count": 67,
     "metadata": {},
     "output_type": "execute_result"
    }
   ],
   "source": [
    "house_data.head()"
   ]
  },
  {
   "cell_type": "code",
   "execution_count": 68,
   "id": "e014557b",
   "metadata": {},
   "outputs": [
    {
     "name": "stdout",
     "output_type": "stream",
     "text": [
      "<class 'pandas.core.frame.DataFrame'>\n",
      "Int64Index: 20433 entries, 0 to 20639\n",
      "Data columns (total 10 columns):\n",
      " #   Column              Non-Null Count  Dtype  \n",
      "---  ------              --------------  -----  \n",
      " 0   longitude           20433 non-null  float64\n",
      " 1   latitude            20433 non-null  float64\n",
      " 2   housing_median_age  20433 non-null  float64\n",
      " 3   total_rooms         20433 non-null  int64  \n",
      " 4   total_bedrooms      20433 non-null  int64  \n",
      " 5   population          20433 non-null  int64  \n",
      " 6   households          20433 non-null  int64  \n",
      " 7   median_income       20433 non-null  float64\n",
      " 8   median_house_value  20433 non-null  float64\n",
      " 9   ocean_proximity     20433 non-null  object \n",
      "dtypes: float64(5), int64(4), object(1)\n",
      "memory usage: 1.7+ MB\n"
     ]
    }
   ],
   "source": [
    "house_data.info()"
   ]
  },
  {
   "cell_type": "code",
   "execution_count": 69,
   "id": "6469b9b8",
   "metadata": {},
   "outputs": [
    {
     "data": {
      "text/plain": [
       "longitude             float64\n",
       "latitude              float64\n",
       "housing_median_age    float64\n",
       "total_rooms             int64\n",
       "total_bedrooms          int64\n",
       "population              int64\n",
       "households              int64\n",
       "median_income         float64\n",
       "median_house_value    float64\n",
       "ocean_proximity        object\n",
       "dtype: object"
      ]
     },
     "execution_count": 69,
     "metadata": {},
     "output_type": "execute_result"
    }
   ],
   "source": [
    "house_data.dtypes"
   ]
  },
  {
   "cell_type": "markdown",
   "id": "10dd3c79",
   "metadata": {},
   "source": [
    "### 3. Dealing with Categorical Variables"
   ]
  },
  {
   "cell_type": "code",
   "execution_count": 70,
   "id": "bd1c4710",
   "metadata": {},
   "outputs": [],
   "source": [
    "# Ocean Proximity\n",
    "df = house_data\n",
    "df = pd.get_dummies(df, columns=['ocean_proximity'], drop_first=True)"
   ]
  },
  {
   "cell_type": "code",
   "execution_count": 71,
   "id": "86a7df1c",
   "metadata": {},
   "outputs": [
    {
     "data": {
      "text/plain": [
       "longitude                     float64\n",
       "latitude                      float64\n",
       "housing_median_age            float64\n",
       "total_rooms                     int64\n",
       "total_bedrooms                  int64\n",
       "population                      int64\n",
       "households                      int64\n",
       "median_income                 float64\n",
       "median_house_value            float64\n",
       "ocean_proximity_INLAND          uint8\n",
       "ocean_proximity_ISLAND          uint8\n",
       "ocean_proximity_NEAR BAY        uint8\n",
       "ocean_proximity_NEAR OCEAN      uint8\n",
       "dtype: object"
      ]
     },
     "execution_count": 71,
     "metadata": {},
     "output_type": "execute_result"
    }
   ],
   "source": [
    "df.dtypes"
   ]
  },
  {
   "cell_type": "markdown",
   "id": "465afab7",
   "metadata": {},
   "source": [
    "### 4. Normalizing and Scaling Data"
   ]
  },
  {
   "cell_type": "code",
   "execution_count": 72,
   "id": "7bf58479",
   "metadata": {},
   "outputs": [],
   "source": [
    "from sklearn.preprocessing import MinMaxScaler\n",
    "from sklearn.preprocessing import StandardScaler\n",
    "from sklearn.preprocessing import PowerTransformer\n",
    "\n",
    "min_max_col = ['housing_median_age','median_income', 'median_house_value']\n",
    "stadard_col = [ 'total_rooms', 'total_bedrooms', 'population', 'households']\n",
    "log_trans_col = ['longitude', 'latitude']"
   ]
  },
  {
   "cell_type": "code",
   "execution_count": 73,
   "id": "4d4e698b",
   "metadata": {},
   "outputs": [],
   "source": [
    "# MinMaxScaler\n",
    "scaler = MinMaxScaler()\n",
    "scaler.fit(df[min_max_col])\n",
    "df[min_max_col] = scaler.transform(df[min_max_col])"
   ]
  },
  {
   "cell_type": "code",
   "execution_count": 74,
   "id": "60cb5f75",
   "metadata": {},
   "outputs": [],
   "source": [
    "# Stadardization\n",
    "scaler = StandardScaler()\n",
    "scaler.fit(df[stadard_col])\n",
    "df[stadard_col] = scaler.transform(df[stadard_col])"
   ]
  },
  {
   "cell_type": "code",
   "execution_count": 75,
   "id": "974e71d7",
   "metadata": {},
   "outputs": [],
   "source": [
    "log=PowerTransformer()\n",
    "log.fit(df[log_trans_col])\n",
    "df[log_trans_col] = log.transform(df[log_trans_col])"
   ]
  },
  {
   "cell_type": "markdown",
   "id": "5b709e0d",
   "metadata": {},
   "source": [
    "### 5. Splitting the data into testing and training sets"
   ]
  },
  {
   "cell_type": "code",
   "execution_count": 76,
   "id": "7e4c858c",
   "metadata": {},
   "outputs": [],
   "source": [
    "X = df.drop('median_house_value', axis =1).values\n",
    "y = df['median_house_value'].values\n",
    "\n",
    "X_train, X_test, y_train, y_test = train_test_split(X, y, test_size = 0.3, random_state = 21)"
   ]
  },
  {
   "cell_type": "markdown",
   "id": "dde126a8",
   "metadata": {},
   "source": [
    "### 6. Conclusions and Further Questions"
   ]
  },
  {
   "cell_type": "code",
   "execution_count": null,
   "id": "112d97ae",
   "metadata": {},
   "outputs": [],
   "source": []
  },
  {
   "cell_type": "markdown",
   "id": "42825b9a",
   "metadata": {},
   "source": [
    "# Did I turn the categorical variables into other types?\n",
    "# Did I normalize when I should have scaled?\n",
    "# How will I know when is the best for each?"
   ]
  },
  {
   "cell_type": "code",
   "execution_count": null,
   "id": "a5525807",
   "metadata": {},
   "outputs": [],
   "source": []
  }
 ],
 "metadata": {
  "kernelspec": {
   "display_name": "Python 3 (ipykernel)",
   "language": "python",
   "name": "python3"
  },
  "language_info": {
   "codemirror_mode": {
    "name": "ipython",
    "version": 3
   },
   "file_extension": ".py",
   "mimetype": "text/x-python",
   "name": "python",
   "nbconvert_exporter": "python",
   "pygments_lexer": "ipython3",
   "version": "3.9.12"
  }
 },
 "nbformat": 4,
 "nbformat_minor": 5
}
