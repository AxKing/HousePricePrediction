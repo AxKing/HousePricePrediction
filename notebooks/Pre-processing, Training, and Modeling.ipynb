{
 "cells": [
  {
   "cell_type": "markdown",
   "id": "2b2692b7",
   "metadata": {},
   "source": [
    "# California Housing Prices \n",
    "## Pre-Processing, Training and Modeling\n",
    "### by Anthony Medina"
   ]
  },
  {
   "cell_type": "markdown",
   "id": "c4a1047f",
   "metadata": {},
   "source": [
    "## Table of Contents\n",
    "#### Pre-Processing\n",
    "1. Introduction and Notebook Objectives\n",
    "2. Imports and Loading the data\n",
    "3. Dealing with Categorical Variables\n",
    "4. Dropping the Longitude and Latitude columns\n",
    "5. Normalizing and Scaling Data\n",
    "#### Training and Modeling\n",
    "6. Splitting the data into testing and training sets\n",
    "7. Modeling Imports\n",
    "8. Model 1 Linear Regression\n",
    "9. Model 2 Polynomial Regression\n",
    "10. Model 3 Ridge Regression\n",
    "11. Model 4 Lasso Regression\n",
    "#### Model Choice\n",
    "12. Model Choice"
   ]
  },
  {
   "cell_type": "markdown",
   "id": "65fcbc6b",
   "metadata": {},
   "source": [
    "# Pre-Processing"
   ]
  },
  {
   "cell_type": "markdown",
   "id": "701687af",
   "metadata": {},
   "source": [
    "### 1. Introduction and Notebook Objectives\n",
    "We'll be preparing a cleaned up version of the [(Kaggle-California Housing Prices)](https://www.kaggle.com/datasets/camnugent/california-housing-prices) data set. \n",
    "\n",
    "The objective is to prepare the data for machine learning.\n",
    "By the end of this notebook, gategorical variables will have been converted to numeric. The data will be scaled and normalized. We will have also tried a few models and picked a working one."
   ]
  },
  {
   "cell_type": "markdown",
   "id": "190b5643",
   "metadata": {},
   "source": [
    "### 2. Imports and load the data"
   ]
  },
  {
   "cell_type": "code",
   "execution_count": 1,
   "id": "4effd553",
   "metadata": {},
   "outputs": [],
   "source": [
    "# Imports\n",
    "import pandas as pd\n",
    "import numpy as np\n",
    "import matplotlib.pyplot as plt\n",
    "import seaborn as sns\n",
    "from scipy import stats\n",
    "from sklearn.model_selection import train_test_split"
   ]
  },
  {
   "cell_type": "code",
   "execution_count": 2,
   "id": "e1416658",
   "metadata": {},
   "outputs": [],
   "source": [
    "# Import the data from the cleaned data folder\n",
    "house_data = pd.read_csv('../cleaned_data/ready_for_EDA.csv', index_col = 0)"
   ]
  },
  {
   "cell_type": "code",
   "execution_count": 3,
   "id": "bd281a55",
   "metadata": {},
   "outputs": [
    {
     "data": {
      "text/html": [
       "<div>\n",
       "<style scoped>\n",
       "    .dataframe tbody tr th:only-of-type {\n",
       "        vertical-align: middle;\n",
       "    }\n",
       "\n",
       "    .dataframe tbody tr th {\n",
       "        vertical-align: top;\n",
       "    }\n",
       "\n",
       "    .dataframe thead th {\n",
       "        text-align: right;\n",
       "    }\n",
       "</style>\n",
       "<table border=\"1\" class=\"dataframe\">\n",
       "  <thead>\n",
       "    <tr style=\"text-align: right;\">\n",
       "      <th></th>\n",
       "      <th>longitude</th>\n",
       "      <th>latitude</th>\n",
       "      <th>housing_median_age</th>\n",
       "      <th>total_rooms</th>\n",
       "      <th>total_bedrooms</th>\n",
       "      <th>population</th>\n",
       "      <th>households</th>\n",
       "      <th>median_income</th>\n",
       "      <th>median_house_value</th>\n",
       "      <th>ocean_proximity</th>\n",
       "    </tr>\n",
       "  </thead>\n",
       "  <tbody>\n",
       "    <tr>\n",
       "      <th>0</th>\n",
       "      <td>-122.23</td>\n",
       "      <td>37.88</td>\n",
       "      <td>41.0</td>\n",
       "      <td>880</td>\n",
       "      <td>129</td>\n",
       "      <td>322</td>\n",
       "      <td>126</td>\n",
       "      <td>83252.0</td>\n",
       "      <td>452600.0</td>\n",
       "      <td>NEAR BAY</td>\n",
       "    </tr>\n",
       "    <tr>\n",
       "      <th>1</th>\n",
       "      <td>-122.22</td>\n",
       "      <td>37.86</td>\n",
       "      <td>21.0</td>\n",
       "      <td>7099</td>\n",
       "      <td>1106</td>\n",
       "      <td>2401</td>\n",
       "      <td>1138</td>\n",
       "      <td>83014.0</td>\n",
       "      <td>358500.0</td>\n",
       "      <td>NEAR BAY</td>\n",
       "    </tr>\n",
       "    <tr>\n",
       "      <th>2</th>\n",
       "      <td>-122.24</td>\n",
       "      <td>37.85</td>\n",
       "      <td>52.0</td>\n",
       "      <td>1467</td>\n",
       "      <td>190</td>\n",
       "      <td>496</td>\n",
       "      <td>177</td>\n",
       "      <td>72574.0</td>\n",
       "      <td>352100.0</td>\n",
       "      <td>NEAR BAY</td>\n",
       "    </tr>\n",
       "    <tr>\n",
       "      <th>3</th>\n",
       "      <td>-122.25</td>\n",
       "      <td>37.85</td>\n",
       "      <td>52.0</td>\n",
       "      <td>1274</td>\n",
       "      <td>235</td>\n",
       "      <td>558</td>\n",
       "      <td>219</td>\n",
       "      <td>56431.0</td>\n",
       "      <td>341300.0</td>\n",
       "      <td>NEAR BAY</td>\n",
       "    </tr>\n",
       "    <tr>\n",
       "      <th>4</th>\n",
       "      <td>-122.25</td>\n",
       "      <td>37.85</td>\n",
       "      <td>52.0</td>\n",
       "      <td>1627</td>\n",
       "      <td>280</td>\n",
       "      <td>565</td>\n",
       "      <td>259</td>\n",
       "      <td>38462.0</td>\n",
       "      <td>342200.0</td>\n",
       "      <td>NEAR BAY</td>\n",
       "    </tr>\n",
       "  </tbody>\n",
       "</table>\n",
       "</div>"
      ],
      "text/plain": [
       "   longitude  latitude  housing_median_age  total_rooms  total_bedrooms  \\\n",
       "0    -122.23     37.88                41.0          880             129   \n",
       "1    -122.22     37.86                21.0         7099            1106   \n",
       "2    -122.24     37.85                52.0         1467             190   \n",
       "3    -122.25     37.85                52.0         1274             235   \n",
       "4    -122.25     37.85                52.0         1627             280   \n",
       "\n",
       "   population  households  median_income  median_house_value ocean_proximity  \n",
       "0         322         126        83252.0            452600.0        NEAR BAY  \n",
       "1        2401        1138        83014.0            358500.0        NEAR BAY  \n",
       "2         496         177        72574.0            352100.0        NEAR BAY  \n",
       "3         558         219        56431.0            341300.0        NEAR BAY  \n",
       "4         565         259        38462.0            342200.0        NEAR BAY  "
      ]
     },
     "execution_count": 3,
     "metadata": {},
     "output_type": "execute_result"
    }
   ],
   "source": [
    "house_data.head()"
   ]
  },
  {
   "cell_type": "code",
   "execution_count": 4,
   "id": "e014557b",
   "metadata": {},
   "outputs": [
    {
     "name": "stdout",
     "output_type": "stream",
     "text": [
      "<class 'pandas.core.frame.DataFrame'>\n",
      "Int64Index: 20433 entries, 0 to 20639\n",
      "Data columns (total 10 columns):\n",
      " #   Column              Non-Null Count  Dtype  \n",
      "---  ------              --------------  -----  \n",
      " 0   longitude           20433 non-null  float64\n",
      " 1   latitude            20433 non-null  float64\n",
      " 2   housing_median_age  20433 non-null  float64\n",
      " 3   total_rooms         20433 non-null  int64  \n",
      " 4   total_bedrooms      20433 non-null  int64  \n",
      " 5   population          20433 non-null  int64  \n",
      " 6   households          20433 non-null  int64  \n",
      " 7   median_income       20433 non-null  float64\n",
      " 8   median_house_value  20433 non-null  float64\n",
      " 9   ocean_proximity     20433 non-null  object \n",
      "dtypes: float64(5), int64(4), object(1)\n",
      "memory usage: 1.7+ MB\n"
     ]
    }
   ],
   "source": [
    "house_data.info()"
   ]
  },
  {
   "cell_type": "code",
   "execution_count": 5,
   "id": "6469b9b8",
   "metadata": {},
   "outputs": [
    {
     "data": {
      "text/plain": [
       "longitude             float64\n",
       "latitude              float64\n",
       "housing_median_age    float64\n",
       "total_rooms             int64\n",
       "total_bedrooms          int64\n",
       "population              int64\n",
       "households              int64\n",
       "median_income         float64\n",
       "median_house_value    float64\n",
       "ocean_proximity        object\n",
       "dtype: object"
      ]
     },
     "execution_count": 5,
     "metadata": {},
     "output_type": "execute_result"
    }
   ],
   "source": [
    "house_data.dtypes"
   ]
  },
  {
   "cell_type": "markdown",
   "id": "10dd3c79",
   "metadata": {},
   "source": [
    "### 3. Dealing with Categorical Variables"
   ]
  },
  {
   "cell_type": "code",
   "execution_count": 6,
   "id": "bd1c4710",
   "metadata": {},
   "outputs": [],
   "source": [
    "# Ocean Proximity\n",
    "df = house_data\n",
    "df = pd.get_dummies(df, columns=['ocean_proximity'], drop_first=True)"
   ]
  },
  {
   "cell_type": "code",
   "execution_count": 7,
   "id": "86a7df1c",
   "metadata": {},
   "outputs": [
    {
     "data": {
      "text/plain": [
       "longitude                     float64\n",
       "latitude                      float64\n",
       "housing_median_age            float64\n",
       "total_rooms                     int64\n",
       "total_bedrooms                  int64\n",
       "population                      int64\n",
       "households                      int64\n",
       "median_income                 float64\n",
       "median_house_value            float64\n",
       "ocean_proximity_INLAND          uint8\n",
       "ocean_proximity_ISLAND          uint8\n",
       "ocean_proximity_NEAR BAY        uint8\n",
       "ocean_proximity_NEAR OCEAN      uint8\n",
       "dtype: object"
      ]
     },
     "execution_count": 7,
     "metadata": {},
     "output_type": "execute_result"
    }
   ],
   "source": [
    "df.dtypes"
   ]
  },
  {
   "cell_type": "markdown",
   "id": "af68500e",
   "metadata": {},
   "source": [
    "### 4. Dropping the Longitude and Latitude columns"
   ]
  },
  {
   "cell_type": "code",
   "execution_count": 8,
   "id": "29e4b2dc",
   "metadata": {},
   "outputs": [
    {
     "data": {
      "text/html": [
       "<div>\n",
       "<style scoped>\n",
       "    .dataframe tbody tr th:only-of-type {\n",
       "        vertical-align: middle;\n",
       "    }\n",
       "\n",
       "    .dataframe tbody tr th {\n",
       "        vertical-align: top;\n",
       "    }\n",
       "\n",
       "    .dataframe thead th {\n",
       "        text-align: right;\n",
       "    }\n",
       "</style>\n",
       "<table border=\"1\" class=\"dataframe\">\n",
       "  <thead>\n",
       "    <tr style=\"text-align: right;\">\n",
       "      <th></th>\n",
       "      <th>housing_median_age</th>\n",
       "      <th>total_rooms</th>\n",
       "      <th>total_bedrooms</th>\n",
       "      <th>population</th>\n",
       "      <th>households</th>\n",
       "      <th>median_income</th>\n",
       "      <th>median_house_value</th>\n",
       "      <th>ocean_proximity_INLAND</th>\n",
       "      <th>ocean_proximity_ISLAND</th>\n",
       "      <th>ocean_proximity_NEAR BAY</th>\n",
       "      <th>ocean_proximity_NEAR OCEAN</th>\n",
       "    </tr>\n",
       "  </thead>\n",
       "  <tbody>\n",
       "    <tr>\n",
       "      <th>0</th>\n",
       "      <td>41.0</td>\n",
       "      <td>880</td>\n",
       "      <td>129</td>\n",
       "      <td>322</td>\n",
       "      <td>126</td>\n",
       "      <td>83252.0</td>\n",
       "      <td>452600.0</td>\n",
       "      <td>0</td>\n",
       "      <td>0</td>\n",
       "      <td>1</td>\n",
       "      <td>0</td>\n",
       "    </tr>\n",
       "    <tr>\n",
       "      <th>1</th>\n",
       "      <td>21.0</td>\n",
       "      <td>7099</td>\n",
       "      <td>1106</td>\n",
       "      <td>2401</td>\n",
       "      <td>1138</td>\n",
       "      <td>83014.0</td>\n",
       "      <td>358500.0</td>\n",
       "      <td>0</td>\n",
       "      <td>0</td>\n",
       "      <td>1</td>\n",
       "      <td>0</td>\n",
       "    </tr>\n",
       "    <tr>\n",
       "      <th>2</th>\n",
       "      <td>52.0</td>\n",
       "      <td>1467</td>\n",
       "      <td>190</td>\n",
       "      <td>496</td>\n",
       "      <td>177</td>\n",
       "      <td>72574.0</td>\n",
       "      <td>352100.0</td>\n",
       "      <td>0</td>\n",
       "      <td>0</td>\n",
       "      <td>1</td>\n",
       "      <td>0</td>\n",
       "    </tr>\n",
       "    <tr>\n",
       "      <th>3</th>\n",
       "      <td>52.0</td>\n",
       "      <td>1274</td>\n",
       "      <td>235</td>\n",
       "      <td>558</td>\n",
       "      <td>219</td>\n",
       "      <td>56431.0</td>\n",
       "      <td>341300.0</td>\n",
       "      <td>0</td>\n",
       "      <td>0</td>\n",
       "      <td>1</td>\n",
       "      <td>0</td>\n",
       "    </tr>\n",
       "    <tr>\n",
       "      <th>4</th>\n",
       "      <td>52.0</td>\n",
       "      <td>1627</td>\n",
       "      <td>280</td>\n",
       "      <td>565</td>\n",
       "      <td>259</td>\n",
       "      <td>38462.0</td>\n",
       "      <td>342200.0</td>\n",
       "      <td>0</td>\n",
       "      <td>0</td>\n",
       "      <td>1</td>\n",
       "      <td>0</td>\n",
       "    </tr>\n",
       "  </tbody>\n",
       "</table>\n",
       "</div>"
      ],
      "text/plain": [
       "   housing_median_age  total_rooms  total_bedrooms  population  households  \\\n",
       "0                41.0          880             129         322         126   \n",
       "1                21.0         7099            1106        2401        1138   \n",
       "2                52.0         1467             190         496         177   \n",
       "3                52.0         1274             235         558         219   \n",
       "4                52.0         1627             280         565         259   \n",
       "\n",
       "   median_income  median_house_value  ocean_proximity_INLAND  \\\n",
       "0        83252.0            452600.0                       0   \n",
       "1        83014.0            358500.0                       0   \n",
       "2        72574.0            352100.0                       0   \n",
       "3        56431.0            341300.0                       0   \n",
       "4        38462.0            342200.0                       0   \n",
       "\n",
       "   ocean_proximity_ISLAND  ocean_proximity_NEAR BAY  \\\n",
       "0                       0                         1   \n",
       "1                       0                         1   \n",
       "2                       0                         1   \n",
       "3                       0                         1   \n",
       "4                       0                         1   \n",
       "\n",
       "   ocean_proximity_NEAR OCEAN  \n",
       "0                           0  \n",
       "1                           0  \n",
       "2                           0  \n",
       "3                           0  \n",
       "4                           0  "
      ]
     },
     "execution_count": 8,
     "metadata": {},
     "output_type": "execute_result"
    }
   ],
   "source": [
    "df = df.drop('longitude', axis =1)\n",
    "df = df.drop('latitude', axis =1)\n",
    "df.head()"
   ]
  },
  {
   "cell_type": "markdown",
   "id": "465afab7",
   "metadata": {},
   "source": [
    "### 5. Normalizing and Scaling Data"
   ]
  },
  {
   "cell_type": "code",
   "execution_count": 9,
   "id": "7bf58479",
   "metadata": {},
   "outputs": [],
   "source": [
    "from sklearn.preprocessing import MinMaxScaler\n",
    "standard_col = ['total_rooms', 'total_bedrooms', 'population', 'households', 'housing_median_age','median_income']"
   ]
  },
  {
   "cell_type": "code",
   "execution_count": 10,
   "id": "4d4e698b",
   "metadata": {},
   "outputs": [],
   "source": [
    "# MinMaxScaler\n",
    "scaler = MinMaxScaler()\n",
    "scaler.fit(df[standard_col])\n",
    "df[standard_col] = scaler.transform(df[standard_col])"
   ]
  },
  {
   "cell_type": "markdown",
   "id": "061cc77e",
   "metadata": {},
   "source": [
    "# Training and Modeling"
   ]
  },
  {
   "cell_type": "markdown",
   "id": "5b709e0d",
   "metadata": {},
   "source": [
    "### 6. Splitting the data into testing and training sets"
   ]
  },
  {
   "cell_type": "code",
   "execution_count": 11,
   "id": "7e4c858c",
   "metadata": {},
   "outputs": [],
   "source": [
    "X = df.drop('median_house_value', axis =1).values\n",
    "y = df['median_house_value'].values\n",
    "\n",
    "X_train, X_test, y_train, y_test = train_test_split(X, y, test_size = 0.3, random_state = 21)"
   ]
  },
  {
   "cell_type": "markdown",
   "id": "dde126a8",
   "metadata": {},
   "source": [
    "### 7. Modeling Imports"
   ]
  },
  {
   "cell_type": "code",
   "execution_count": 12,
   "id": "875eb6cb",
   "metadata": {},
   "outputs": [],
   "source": [
    "from sklearn.model_selection import train_test_split, GridSearchCV\n",
    "from sklearn.linear_model import LinearRegression, Ridge, Lasso\n",
    "from sklearn.preprocessing import StandardScaler, PolynomialFeatures\n",
    "from sklearn.metrics import mean_squared_error, r2_score\n",
    "from sklearn.pipeline import Pipeline "
   ]
  },
  {
   "cell_type": "markdown",
   "id": "00a26f44",
   "metadata": {},
   "source": [
    "### 8. Model 1 Linear Regression"
   ]
  },
  {
   "cell_type": "code",
   "execution_count": 13,
   "id": "82a1d35a",
   "metadata": {},
   "outputs": [
    {
     "name": "stdout",
     "output_type": "stream",
     "text": [
      "{'fit_intercept': True, 'n_jobs': 1}\n",
      "R-squared:  0.6352576876332579\n",
      "MSE:  4907868535.531821\n",
      "RMSE:  70056.18127996859\n"
     ]
    }
   ],
   "source": [
    "# create a linear regression model\n",
    "lr = LinearRegression()\n",
    "\n",
    "# define hyperparameters to tune\n",
    "params = {'fit_intercept': [True, False],\n",
    "          'n_jobs': [1,2,3,4,5],}\n",
    "\n",
    "\n",
    "# use grid search to find optimal hyperparameters\n",
    "grid = GridSearchCV(lr, params, cv=5)\n",
    "grid.fit(X_train, y_train)\n",
    "\n",
    "# print the best hyperparameters\n",
    "print(grid.best_params_)\n",
    "\n",
    "# predict on the test set using the optimized model\n",
    "y_pred = grid.predict(X_test)\n",
    "\n",
    "# evaluate the performance of the model\n",
    "mse = mean_squared_error(y_test, y_pred)\n",
    "rmse = np.sqrt(mse)\n",
    "r2 = r2_score(y_test, y_pred)\n",
    "print('R-squared: ', r2)\n",
    "print('MSE: ', mse)\n",
    "print('RMSE: ', rmse)"
   ]
  },
  {
   "cell_type": "markdown",
   "id": "a9f8a799",
   "metadata": {},
   "source": [
    "### 9. Model 2 Polynomial Regression"
   ]
  },
  {
   "cell_type": "code",
   "execution_count": 14,
   "id": "a4ec090e",
   "metadata": {},
   "outputs": [
    {
     "name": "stdout",
     "output_type": "stream",
     "text": [
      "{'lr__fit_intercept': True, 'lr__n_jobs': 1, 'poly__degree': 2}\n",
      "R-squared:  -1.6166739750942327e+20\n",
      "MSE:  2.1753503954869408e+30\n",
      "RMSE:  1474906910786894.8\n"
     ]
    }
   ],
   "source": [
    "poly = PolynomialFeatures()\n",
    "\n",
    "# create a StandardScaler to normalize the features\n",
    "scaler = StandardScaler()\n",
    "\n",
    "# create a LinearRegression model\n",
    "lr = LinearRegression()\n",
    "\n",
    "# define hyperparameters to tune\n",
    "params = {'poly__degree': [2, 3, 4],\n",
    "          'lr__fit_intercept': [True, False],\n",
    "          'lr__n_jobs': [1,2,3,4]}\n",
    "\n",
    "# create a pipeline to combine the transformer and the model\n",
    "from sklearn.pipeline import Pipeline\n",
    "pipe = Pipeline(steps=[('poly', poly), ('scaler', scaler), ('lr', lr)])\n",
    "\n",
    "# use grid search to find optimal hyperparameters\n",
    "grid = GridSearchCV(pipe, params, cv=5)\n",
    "grid.fit(X_train, y_train)\n",
    "\n",
    "# print the best hyperparameters\n",
    "print(grid.best_params_)\n",
    "\n",
    "# predict on the test set using the optimized model\n",
    "y_pred = grid.predict(X_test)\n",
    "\n",
    "# evaluate the performance of the model\n",
    "mse = mean_squared_error(y_test, y_pred)\n",
    "rmse = np.sqrt(mse)\n",
    "r2 = r2_score(y_test, y_pred)\n",
    "print('R-squared: ', r2)\n",
    "print('MSE: ', mse)\n",
    "print('RMSE: ', rmse)"
   ]
  },
  {
   "cell_type": "markdown",
   "id": "22eb1621",
   "metadata": {},
   "source": [
    "### 10. Model 3 Ridge Regression"
   ]
  },
  {
   "cell_type": "code",
   "execution_count": 15,
   "id": "4ce0d2ad",
   "metadata": {},
   "outputs": [
    {
     "name": "stdout",
     "output_type": "stream",
     "text": [
      "Best Alpha: 0.1\n",
      "Best Solver: sparse_cg\n",
      "R-squared: 0.6348951792611737\n",
      "Mean Squared Error (MSE): 4912746344.803999\n",
      "RMSE:  70090.98618798282\n"
     ]
    }
   ],
   "source": [
    "# Define the hyperparameters to tune\n",
    "parameters = {'alpha': [0.01, 0.1, 0.5, 1.0, 10.0], 'solver': ['auto', 'svd', 'cholesky', 'lsqr', 'sparse_cg']}\n",
    "\n",
    "# Create a Ridge regression model\n",
    "ridge = Ridge()\n",
    "\n",
    "# Perform grid search to find the best hyperparameters\n",
    "grid_search = GridSearchCV(ridge, parameters, cv=5)\n",
    "grid_search.fit(X_train, y_train)\n",
    "\n",
    "# Get the best hyperparameters\n",
    "best_alpha = grid_search.best_params_['alpha']\n",
    "best_solver = grid_search.best_params_['solver']\n",
    "\n",
    "# Train a new Ridge model with the best hyperparameters\n",
    "ridge_best = Ridge(alpha=best_alpha, solver=best_solver)\n",
    "ridge_best.fit(X_train, y_train)\n",
    "\n",
    "# Make predictions on the test set\n",
    "y_pred = ridge_best.predict(X_test)\n",
    "\n",
    "# Evaluate the model using MSE and R-squared\n",
    "mse = mean_squared_error(y_test, y_pred)\n",
    "r2 = r2_score(y_test, y_pred)\n",
    "rmse = np.sqrt(mse)\n",
    "\n",
    "print(\"Best Alpha:\", best_alpha)\n",
    "print(\"Best Solver:\", best_solver)\n",
    "print(\"R-squared:\", r2)\n",
    "print(\"Mean Squared Error (MSE):\", mse)\n",
    "print('RMSE: ', rmse)"
   ]
  },
  {
   "cell_type": "markdown",
   "id": "f9533977",
   "metadata": {},
   "source": [
    "### 11. Model Lasso Regression Model"
   ]
  },
  {
   "cell_type": "code",
   "execution_count": 16,
   "id": "fdbcab1e",
   "metadata": {},
   "outputs": [
    {
     "name": "stdout",
     "output_type": "stream",
     "text": [
      "Best Alpha: 0.1\n",
      "Best Max Iterations: 500\n",
      "R-squared: 0.6352516232554682\n",
      "Mean Squared Error (MSE): 4907950136.069877\n",
      "RMSE:  70056.76367111085\n"
     ]
    }
   ],
   "source": [
    "# Define the hyperparameters to tune\n",
    "parameters = {'alpha': [0.1, 1.0, 10.0], 'max_iter': [500, 1500, 2000]}\n",
    "\n",
    "# Create a Lasso regression model\n",
    "lasso = Lasso()\n",
    "\n",
    "# Perform grid search to find the best hyperparameters\n",
    "grid_search = GridSearchCV(lasso, parameters, cv=5)\n",
    "grid_search.fit(X_train, y_train)\n",
    "\n",
    "# Get the best hyperparameters\n",
    "best_alpha = grid_search.best_params_['alpha']\n",
    "best_max_iter = grid_search.best_params_['max_iter']\n",
    "\n",
    "# Train a new Lasso model with the best hyperparameters\n",
    "lasso_best = Lasso(alpha=best_alpha, max_iter=best_max_iter)\n",
    "lasso_best.fit(X_train, y_train)\n",
    "\n",
    "# Make predictions on the test set\n",
    "y_pred = lasso_best.predict(X_test)\n",
    "\n",
    "# Evaluate the model using MSE and R-squared\n",
    "mse = mean_squared_error(y_test, y_pred)\n",
    "rmse = np.sqrt(mse)\n",
    "r2 = r2_score(y_test, y_pred)\n",
    "\n",
    "print(\"Best Alpha:\", best_alpha)\n",
    "print(\"Best Max Iterations:\", best_max_iter)\n",
    "print(\"R-squared:\", r2)\n",
    "print(\"Mean Squared Error (MSE):\", mse)\n",
    "print('RMSE: ', rmse)"
   ]
  },
  {
   "cell_type": "markdown",
   "id": "74fb53c7",
   "metadata": {},
   "source": [
    "### 12. Model Choice"
   ]
  },
  {
   "cell_type": "markdown",
   "id": "623a9a1d",
   "metadata": {},
   "source": [
    "To pick the best model, I went with the lowest RMSE.\n",
    "It was close between Linear Regression and Lasso Regression.\n",
    "\n",
    "---\n",
    "Linear Regression: 70056.18\n",
    "\n",
    "Lasso Regression: 70056.76\n",
    "\n",
    "---\n",
    "\n",
    "I decided to go with the Linear Regression model since it is a simpler model to build."
   ]
  }
 ],
 "metadata": {
  "kernelspec": {
   "display_name": "Python 3 (ipykernel)",
   "language": "python",
   "name": "python3"
  },
  "language_info": {
   "codemirror_mode": {
    "name": "ipython",
    "version": 3
   },
   "file_extension": ".py",
   "mimetype": "text/x-python",
   "name": "python",
   "nbconvert_exporter": "python",
   "pygments_lexer": "ipython3",
   "version": "3.9.12"
  }
 },
 "nbformat": 4,
 "nbformat_minor": 5
}
